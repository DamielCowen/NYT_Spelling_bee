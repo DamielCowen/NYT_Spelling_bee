{
 "cells": [
  {
   "cell_type": "code",
   "execution_count": 1,
   "metadata": {},
   "outputs": [],
   "source": [
    "%load_ext autoreload\n",
    "%autoreload 2"
   ]
  },
  {
   "cell_type": "code",
   "execution_count": 2,
   "metadata": {},
   "outputs": [],
   "source": [
    "from trie import *\n",
    "#from trie_2 import *"
   ]
  },
  {
   "cell_type": "code",
   "execution_count": 3,
   "metadata": {
    "tags": [
     "outputPrepend",
     "outputPrepend",
     "outputPrepend",
     "outputPrepend",
     "outputPrepend",
     "outputPrepend",
     "outputPrepend",
     "outputPrepend",
     "outputPrepend",
     "outputPrepend",
     "outputPrepend",
     "outputPrepend",
     "outputPrepend",
     "outputPrepend",
     "outputPrepend",
     "outputPrepend",
     "outputPrepend",
     "outputPrepend",
     "outputPrepend",
     "outputPrepend",
     "outputPrepend",
     "outputPrepend",
     "outputPrepend",
     "outputPrepend",
     "outputPrepend",
     "outputPrepend",
     "outputPrepend",
     "outputPrepend",
     "outputPrepend",
     "outputPrepend",
     "outputPrepend",
     "outputPrepend",
     "outputPrepend",
     "outputPrepend",
     "outputPrepend",
     "outputPrepend",
     "outputPrepend",
     "outputPrepend",
     "outputPrepend",
     "outputPrepend",
     "outputPrepend",
     "outputPrepend",
     "outputPrepend",
     "outputPrepend",
     "outputPrepend",
     "outputPrepend",
     "outputPrepend",
     "outputPrepend",
     "outputPrepend",
     "outputPrepend",
     "outputPrepend",
     "outputPrepend",
     "outputPrepend",
     "outputPrepend",
     "outputPrepend",
     "outputPrepend",
     "outputPrepend",
     "outputPrepend",
     "outputPrepend",
     "outputPrepend",
     "outputPrepend",
     "outputPrepend",
     "outputPrepend",
     "outputPrepend",
     "outputPrepend",
     "outputPrepend",
     "outputPrepend",
     "outputPrepend",
     "outputPrepend",
     "outputPrepend",
     "outputPrepend",
     "outputPrepend",
     "outputPrepend"
    ]
   },
   "outputs": [
    {
     "name": "stdout",
     "output_type": "stream",
     "text": [
      "a\n",
      "aa\n",
      "aaa\n",
      "aah\n",
      "aahed\n",
      "aahing\n",
      "aahs\n",
      "aal\n",
      "aalii\n",
      "aaliis\n",
      "aals\n",
      "aam\n",
      "aani\n",
      "aardvark\n",
      "aardvarks\n",
      "aardwolf\n",
      "aardwolves\n",
      "aargh\n",
      "aaron\n",
      "aaronic\n",
      "aaronical\n",
      "aaronite\n",
      "aaronitic\n",
      "aarrgh\n",
      "aarrghh\n",
      "aaru\n",
      "aas\n",
      "aasvogel\n",
      "aasvogels\n",
      "ab\n",
      "aba\n",
      "ababdeh\n",
      "ababua\n",
      "abac\n",
      "abaca\n",
      "abacay\n",
      "abacas\n",
      "abacate\n",
      "abacaxi\n",
      "abaci\n",
      "abacinate\n",
      "abacination\n",
      "abacisci\n",
      "abaciscus\n",
      "abacist\n",
      "aback\n",
      "abacli\n",
      "abacot\n",
      "abacterial\n",
      "abactinal\n",
      "abactinally\n",
      "abaction\n",
      "abactor\n",
      "abaculi\n",
      "abaculus\n",
      "abacus\n",
      "abacuses\n",
      "abada\n",
      "abaddon\n",
      "abadejo\n",
      "abadengo\n",
      "abadia\n",
      "abadite\n",
      "abaff\n",
      "abaft\n",
      "abay\n",
      "abayah\n",
      "abaisance\n",
      "abaised\n",
      "abaiser\n",
      "abaisse\n",
      "abaissed\n",
      "abaka\n",
      "abakas\n",
      "abalation\n",
      "abalienate\n",
      "abalienated\n",
      "abalienating\n",
      "abalienation\n",
      "abalone\n",
      "abalones\n",
      "abama\n",
      "abamp\n",
      "abampere\n",
      "abamperes\n",
      "abamps\n",
      "aband\n",
      "abandon\n",
      "abandonable\n",
      "abandoned\n",
      "abandonedly\n",
      "abandonee\n",
      "abandoner\n",
      "abandoners\n",
      "abandoning\n",
      "abandonment\n",
      "abandonments\n",
      "abandons\n",
      "abandum\n",
      "abanet\n",
      "abanga\n",
      "abanic\n",
      "abannition\n",
      "abantes\n",
      "abapical\n",
      "abaptiston\n",
      "abaptistum\n",
      "abarambo\n",
      "abaris\n",
      "abarthrosis\n",
      "abarticular\n",
      "abarticulation\n",
      "abas\n",
      "abase\n",
      "abased\n",
      "abasedly\n",
      "abasedness\n",
      "abasement\n",
      "abasements\n",
      "abaser\n",
      "abasers\n",
      "abases\n",
      "abasgi\n"
     ]
    },
    {
     "data": {
      "text/plain": [
       "279"
      ]
     },
     "execution_count": 3,
     "metadata": {},
     "output_type": "execute_result"
    }
   ],
   "source": [
    "trie = Trie()\n",
    "with open('words_alpha.txt', 'r') as f:\n",
    "    word_list = f.read(1000).splitlines()\n",
    "\n",
    "\n",
    "\n",
    "for word in word_list:\n",
    "    trie.insert(word)\n",
    "\n",
    "trie.number_nodes\n",
    "\n",
    "\n",
    "    "
   ]
  },
  {
   "cell_type": "code",
   "execution_count": 4,
   "metadata": {},
   "outputs": [
    {
     "data": {
      "text/plain": [
       "True"
      ]
     },
     "execution_count": 4,
     "metadata": {},
     "output_type": "execute_result"
    }
   ],
   "source": [
    "trie.search('aa')"
   ]
  },
  {
   "cell_type": "code",
   "execution_count": 5,
   "metadata": {},
   "outputs": [
    {
     "data": {
      "text/plain": [
       "279"
      ]
     },
     "execution_count": 5,
     "metadata": {},
     "output_type": "execute_result"
    }
   ],
   "source": [
    "trie.number_nodes"
   ]
  },
  {
   "cell_type": "code",
   "execution_count": 9,
   "metadata": {},
   "outputs": [
    {
     "ename": "AttributeError",
     "evalue": "'Trie' object has no attribute 'getWords'",
     "output_type": "error",
     "traceback": [
      "\u001b[0;31m---------------------------------------------------------------------------\u001b[0m",
      "\u001b[0;31mAttributeError\u001b[0m                            Traceback (most recent call last)",
      "\u001b[0;32m<ipython-input-9-dce2303958d8>\u001b[0m in \u001b[0;36m<module>\u001b[0;34m\u001b[0m\n\u001b[0;32m----> 1\u001b[0;31m \u001b[0mtrie\u001b[0m\u001b[0;34m.\u001b[0m\u001b[0mgetWords\u001b[0m\u001b[0;34m(\u001b[0m\u001b[0mtrie\u001b[0m\u001b[0;34m.\u001b[0m\u001b[0mroot\u001b[0m\u001b[0;34m,\u001b[0m \u001b[0;34m'homclke'\u001b[0m\u001b[0;34m)\u001b[0m\u001b[0;34m\u001b[0m\u001b[0;34m\u001b[0m\u001b[0m\n\u001b[0m",
      "\u001b[0;31mAttributeError\u001b[0m: 'Trie' object has no attribute 'getWords'"
     ]
    }
   ],
   "source": [
    "\n",
    "trie.getWords(trie.root, 'homclke')\n"
   ]
  },
  {
   "cell_type": "code",
   "execution_count": 8,
   "metadata": {},
   "outputs": [],
   "source": [
    "letters = 'homclke'\n",
    "def getWords(node, letters):\n",
    "\n",
    "    '''\n",
    "    letters: string of letter, the first character must be the key-letter.\n",
    "    '''\n",
    "    n =  node\n",
    "    output = []\n",
    "\n",
    "    for child in n.children:\n",
    "        if child.character in letters:\n",
    "            n = child\n",
    "            getWords(n, letters)\n",
    "            if n.isEndOfWord == True:\n",
    "                print(n.character, n.path)\n",
    "\n",
    "getWords(trie.root, letters)"
   ]
  },
  {
   "cell_type": "code",
   "execution_count": null,
   "metadata": {},
   "outputs": [],
   "source": []
  },
  {
   "cell_type": "code",
   "execution_count": null,
   "metadata": {},
   "outputs": [],
   "source": []
  },
  {
   "cell_type": "code",
   "execution_count": null,
   "metadata": {},
   "outputs": [],
   "source": []
  },
  {
   "cell_type": "code",
   "execution_count": null,
   "metadata": {},
   "outputs": [],
   "source": []
  }
 ],
 "metadata": {
  "file_extension": ".py",
  "kernelspec": {
   "display_name": "Python 3",
   "language": "python",
   "name": "python3"
  },
  "language_info": {
   "codemirror_mode": {
    "name": "ipython",
    "version": 3
   },
   "file_extension": ".py",
   "mimetype": "text/x-python",
   "name": "python",
   "nbconvert_exporter": "python",
   "pygments_lexer": "ipython3",
   "version": "3.7.4"
  },
  "mimetype": "text/x-python",
  "name": "python",
  "npconvert_exporter": "python",
  "pygments_lexer": "ipython3",
  "version": 3
 },
 "nbformat": 4,
 "nbformat_minor": 2
}
