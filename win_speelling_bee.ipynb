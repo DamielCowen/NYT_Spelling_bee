{
 "cells": [
  {
   "cell_type": "code",
   "execution_count": 1,
   "metadata": {},
   "outputs": [],
   "source": [
    "from spelling_bee import Spelling_Bee"
   ]
  },
  {
   "cell_type": "code",
   "execution_count": 6,
   "metadata": {},
   "outputs": [
    {
     "name": "stdout",
     "output_type": "stream",
     "text": [
      "Current size of corpus: 370103\n"
     ]
    }
   ],
   "source": [
    "characters = list('rautlyf')\n",
    "bee = Spelling_Bee(characters, 'f')"
   ]
  },
  {
   "cell_type": "code",
   "execution_count": 7,
   "metadata": {},
   "outputs": [
    {
     "name": "stdout",
     "output_type": "stream",
     "text": [
      "370103\n"
     ]
    }
   ],
   "source": [
    "bee.remove_short_words()\n",
    "bee.remove_non_center_words()"
   ]
  },
  {
   "cell_type": "code",
   "execution_count": 8,
   "metadata": {},
   "outputs": [],
   "source": [
    "corpus = bee.word_list"
   ]
  },
  {
   "cell_type": "code",
   "execution_count": 9,
   "metadata": {},
   "outputs": [
    {
     "data": {
      "text/plain": [
       "['afar',\n",
       " 'afara',\n",
       " 'affa',\n",
       " 'affy',\n",
       " 'affray',\n",
       " 'afft',\n",
       " 'aflat',\n",
       " 'afray',\n",
       " 'alfa',\n",
       " 'alfalfa',\n",
       " 'alfur',\n",
       " 'artful',\n",
       " 'artfully',\n",
       " 'faff',\n",
       " 'faffy',\n",
       " 'fayal',\n",
       " 'fala',\n",
       " 'fall',\n",
       " 'falla',\n",
       " 'fallal',\n",
       " 'fally',\n",
       " 'farfal',\n",
       " 'farfara',\n",
       " 'farl',\n",
       " 'fart',\n",
       " 'fatal',\n",
       " 'fatally',\n",
       " 'fatly',\n",
       " 'fatty',\n",
       " 'fault',\n",
       " 'faultful',\n",
       " 'faultfully',\n",
       " 'faulty',\n",
       " 'faut',\n",
       " 'flaff',\n",
       " 'flay',\n",
       " 'flary',\n",
       " 'flat',\n",
       " 'flatly',\n",
       " 'fluff',\n",
       " 'fluffy',\n",
       " 'fluyt',\n",
       " 'flurr',\n",
       " 'flurry',\n",
       " 'flurt',\n",
       " 'fluty',\n",
       " 'fray',\n",
       " 'frary',\n",
       " 'frat',\n",
       " 'fratry',\n",
       " 'frau',\n",
       " 'fuff',\n",
       " 'fuffy',\n",
       " 'fula',\n",
       " 'fulful',\n",
       " 'full',\n",
       " 'fully',\n",
       " 'fural',\n",
       " 'furfur',\n",
       " 'furfural',\n",
       " 'furfuryl',\n",
       " 'fury',\n",
       " 'furyl',\n",
       " 'furl',\n",
       " 'furry',\n",
       " 'futural',\n",
       " 'yaff',\n",
       " 'yuft',\n",
       " 'laft',\n",
       " 'luff',\n",
       " 'luffa',\n",
       " 'raff',\n",
       " 'raft',\n",
       " 'rafty',\n",
       " 'rayful',\n",
       " 'ralf',\n",
       " 'ruff',\n",
       " 'ruffly',\n",
       " 'taffy',\n",
       " 'taft',\n",
       " 'taraf',\n",
       " 'tarfa',\n",
       " 'trayful',\n",
       " 'truff',\n",
       " 'tufa',\n",
       " 'tuff',\n",
       " 'tuft',\n",
       " 'tufty',\n",
       " 'turf',\n",
       " 'turfy']"
      ]
     },
     "execution_count": 9,
     "metadata": {},
     "output_type": "execute_result"
    }
   ],
   "source": [
    "winners = bee.check_corpus()\n",
    "winners"
   ]
  },
  {
   "cell_type": "code",
   "execution_count": null,
   "metadata": {},
   "outputs": [],
   "source": [
    "f = open('words_alpha.txt', 'r')\n",
    "x = f.readlines()\n",
    "f.close()"
   ]
  },
  {
   "cell_type": "code",
   "execution_count": null,
   "metadata": {},
   "outputs": [],
   "source": [
    "corpus = []\n",
    "for word in x:\n",
    "    corpus.append(word.strip('\\n'))"
   ]
  },
  {
   "cell_type": "code",
   "execution_count": null,
   "metadata": {},
   "outputs": [],
   "source": [
    "len(corpus)"
   ]
  },
  {
   "cell_type": "code",
   "execution_count": null,
   "metadata": {},
   "outputs": [],
   "source": []
  }
 ],
 "metadata": {
  "kernelspec": {
   "display_name": "Python 3",
   "language": "python",
   "name": "python3"
  },
  "language_info": {
   "codemirror_mode": {
    "name": "ipython",
    "version": 3
   },
   "file_extension": ".py",
   "mimetype": "text/x-python",
   "name": "python",
   "nbconvert_exporter": "python",
   "pygments_lexer": "ipython3",
   "version": "3.7.4"
  }
 },
 "nbformat": 4,
 "nbformat_minor": 2
}
