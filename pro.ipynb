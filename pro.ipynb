{
 "cells": [
  {
   "cell_type": "code",
   "execution_count": 1,
   "metadata": {},
   "outputs": [],
   "source": [
    "from lxml import html\n",
    "import json\n",
    "import requests\n",
    "from bs4 import BeautifulSoup\n",
    "\n"
   ]
  },
  {
   "cell_type": "code",
   "execution_count": 2,
   "metadata": {},
   "outputs": [
    {
     "data": {
      "text/plain": [
       "['victimize',\n",
       " 'cite',\n",
       " 'civet',\n",
       " 'civic',\n",
       " 'emetic',\n",
       " 'emit',\n",
       " 'evict',\n",
       " 'evictee',\n",
       " 'item',\n",
       " 'itemize',\n",
       " 'mice',\n",
       " 'mime',\n",
       " 'mimetic',\n",
       " 'mimic',\n",
       " 'mite',\n",
       " 'mitt',\n",
       " 'time',\n",
       " 'titmice',\n",
       " 'vice',\n",
       " 'victim',\n",
       " 'ziti']"
      ]
     },
     "execution_count": 2,
     "metadata": {},
     "output_type": "execute_result"
    }
   ],
   "source": [
    "url ='https://www.nytimes.com/puzzles/spelling-bee'\n",
    "xpath ='/html/body/div[2]/div[2]/div[2]/script/text()'\n",
    "\n",
    "page = requests.get(url)\n",
    "\n",
    "tree = html.fromstring(page.content)\n",
    "gameDataRaw = tree.xpath(xpath)\n",
    "gameDataDict = json.loads(gameDataRaw[0][18:])\n",
    "\n",
    "\n",
    "answers = gameDataDict['today']['answers']\n",
    "centerLetter = gameDataDict['today']['centerLetter']\n",
    "validLetters = gameDataDict['today']['validLetters']\n",
    "pangrams = gameDataDict['today']['pangrams']\n",
    "\n",
    "\n",
    "answers"
   ]
  },
  {
   "cell_type": "code",
   "execution_count": null,
   "metadata": {},
   "outputs": [],
   "source": []
  }
 ],
 "metadata": {
  "kernelspec": {
   "display_name": "Python 3",
   "language": "python",
   "name": "python3"
  },
  "language_info": {
   "codemirror_mode": {
    "name": "ipython",
    "version": 3
   },
   "file_extension": ".py",
   "mimetype": "text/x-python",
   "name": "python",
   "nbconvert_exporter": "python",
   "pygments_lexer": "ipython3",
   "version": "3.7.4"
  }
 },
 "nbformat": 4,
 "nbformat_minor": 2
}
