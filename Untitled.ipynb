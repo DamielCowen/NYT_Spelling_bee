{
 "cells": [
  {
   "cell_type": "code",
   "execution_count": 1,
   "metadata": {},
   "outputs": [
    {
     "name": "stdout",
     "output_type": "stream",
     "text": [
      "Removed words that include characters not in the puzzel, 87 \n",
      "        words remain in corpus\n",
      "              \n",
      "Removed words that do not include center letter, 47 words remain in corpus\n",
      "              \n",
      "30.739298105239868\n",
      "0.8252391815185547\n",
      "0.6045513153076172\n",
      "0.28029894828796387\n"
     ]
    }
   ],
   "source": [
    "run spelling_bee"
   ]
  },
  {
   "cell_type": "code",
   "execution_count": 2,
   "metadata": {},
   "outputs": [
    {
     "name": "stdout",
     "output_type": "stream",
     "text": [
      "Removed words that include characters not in the puzzel, 87 \n",
      "        words remain in corpus\n",
      "              \n",
      "Removed words that do not include center letter, 47 words remain in corpus\n",
      "              \n",
      "32.84505796432495\n"
     ]
    }
   ],
   "source": [
    "m1 = method1()"
   ]
  },
  {
   "cell_type": "code",
   "execution_count": null,
   "metadata": {},
   "outputs": [],
   "source": []
  }
 ],
 "metadata": {
  "kernelspec": {
   "display_name": "Python 3",
   "language": "python",
   "name": "python3"
  },
  "language_info": {
   "codemirror_mode": {
    "name": "ipython",
    "version": 3
   },
   "file_extension": ".py",
   "mimetype": "text/x-python",
   "name": "python",
   "nbconvert_exporter": "python",
   "pygments_lexer": "ipython3",
   "version": "3.7.4"
  }
 },
 "nbformat": 4,
 "nbformat_minor": 2
}
