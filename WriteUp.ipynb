{
 "cells": [
  {
   "cell_type": "markdown",
   "metadata": {},
   "source": [
    "# Forward\n",
    "\n",
    "I want to start off by taking a moment to thank you all for being here. I want to take an additional moment to acknowledge the privilege that has allowed me to take time off work and attempt my current career change.\n",
    "\n",
    "### About Me\n",
    "\n",
    "Hi I amd Daniel Cohen (he/him), reformed geologist and aspiring data-scientist! I started my journey to data-sciences in October 2019 when I enrolled in a data science accelerator program. Since then I have countless online tutorials and plenty of collaborations with fellow coders. My objective is to pivot my career from environmental consulting to data-sciences. Without a degree in computer-science or a related discipline how to you convince potential employers of your abilities? A portfolio! \n",
    "\n",
    "### My Ask\n",
    "\n",
    "Hopefully I am reaching the end of the beginning of my journey, but I still have a long way to go. My ask from you is to provide a code review. Please volunteer suggestions for improvements or how to make this project more professional.\n"
   ]
  },
  {
   "cell_type": "markdown",
   "metadata": {},
   "source": [
    "# New York Times Spelling Bee\n",
    "\n",
    "Impress your friends and co-workers with your ability to provide answers to the New York Time's, Spelling Bee word game! \n",
    "\n",
    "For the uninitated the NYTSB is a daily word puzzel where you get 7 letters, 6 outer and 1 inner letters - You score points by making words from the available letters! Each word must include the center letter and be longer than 3 characters. In this notebook and supporting files you will see 3 solutions.\n",
    "\n",
    "\n",
    "![](http://www.jeanyoungkim.com/projects/assets/bee/spelling-bee.png)\n"
   ]
  },
  {
   "cell_type": "code",
   "execution_count": 4,
   "metadata": {},
   "outputs": [
    {
     "name": "stdout",
     "output_type": "stream",
     "text": [
      "/Users/drahcir1/Documents/GitHub/NYT_Spelling_bee\r\n"
     ]
    }
   ],
   "source": [
    "!pwd"
   ]
  },
  {
   "cell_type": "code",
   "execution_count": 5,
   "metadata": {},
   "outputs": [],
   "source": [
    "import time\n",
    "from spelling_bee import *"
   ]
  },
  {
   "cell_type": "code",
   "execution_count": 8,
   "metadata": {},
   "outputs": [
    {
     "name": "stdout",
     "output_type": "stream",
     "text": [
      "0.603344202041626 24\n"
     ]
    }
   ],
   "source": [
    "p = Pro()"
   ]
  },
  {
   "cell_type": "markdown",
   "metadata": {},
   "source": [
    "# List of Words\n",
    "\n",
    "The code does not know which combination of letters consitute a word. Utilized Natural Lanugage Processing Tool Kit (NLTK) corpus word. \n"
   ]
  },
  {
   "cell_type": "code",
   "execution_count": 9,
   "metadata": {},
   "outputs": [
    {
     "name": "stdout",
     "output_type": "stream",
     "text": [
      "Number of words in vocab to evaluate: 236736. Today's valid letters are ['n', 'a', 'c', 'l', 't', 'v', 'y'] and the center letter is n\n"
     ]
    },
    {
     "name": "stderr",
     "output_type": "stream",
     "text": [
      "[nltk_data] Downloading package words to /Users/drahcir1/nltk_data...\n",
      "[nltk_data]   Package words is already up-to-date!\n"
     ]
    },
    {
     "data": {
      "text/plain": [
       "['A',\n",
       " 'a',\n",
       " 'aa',\n",
       " 'aal',\n",
       " 'aalii',\n",
       " 'aam',\n",
       " 'Aani',\n",
       " 'aardvark',\n",
       " 'aardwolf',\n",
       " 'Aaron']"
      ]
     },
     "execution_count": 9,
     "metadata": {},
     "output_type": "execute_result"
    }
   ],
   "source": [
    "center = p.centerLetter\n",
    "letters = p.validLetters\n",
    "\n",
    "import nltk\n",
    "nltk.download('words')\n",
    "\n",
    "vocab = words.words()\n",
    "print(\"Number of words in vocab to evaluate: {}. Today's valid letters are {} and the center letter is {}\".format(len(vocab), letters, center))\n",
    "vocab[:10]"
   ]
  },
  {
   "cell_type": "markdown",
   "metadata": {},
   "source": [
    "There are four criteria for a word to be considered a possible solution.\n",
    "\n",
    "1. It must be 4 or more characters\n",
    "2. No proper nouns (no capitals)\n",
    "3. Contains only letters from the puzzle, letters can be repeated\n",
    "4. Center character at least once"
   ]
  },
  {
   "cell_type": "markdown",
   "metadata": {},
   "source": [
    "# Stupid Method 1\n",
    "\n",
    "### The Simple Son: Loads entire vocabulary and loops it 4 times to evaluate each solution criteria. \n",
    "\n",
    "This method is stupid. Minimum Big(O) is vocab * 4. But I did learn a few things.\n",
    "\n",
    "1.     I needed to iterate through a 200k list. I wanted to edit the list inplace to save memory and keep my code clean. When the python interrupter iterates through a list it starts at the beginneg and moves towars the end. The issue is that if you remove a word in this process it misses up the indexing. To fix this I itterated from the back of the list. \n",
    "     "
   ]
  },
  {
   "cell_type": "code",
   "execution_count": 10,
   "metadata": {},
   "outputs": [
    {
     "name": "stdout",
     "output_type": "stream",
     "text": [
      "['a', 'c', 'e', 'g', 'i', 'k', 'm', 'o', 'q', 's', 'u', 'w', 'y']\n",
      "['a', 'e', 'i', 'o', 'u']\n"
     ]
    }
   ],
   "source": [
    "temp = list('abcdefghijklmnopqrstuvwxyz')\n",
    "vowels = list('aeiou')\n",
    "\n",
    "for c in temp:\n",
    "    if c not in vowels:\n",
    "        temp.remove(c)\n",
    "print(temp)\n",
    "\n",
    "#backwards itteration\n",
    "temp = list('abcdefghijklmnopqrstuvwxyz')\n",
    "for c in temp[::-1]:\n",
    "    if c not in vowels:\n",
    "        temp.remove(c)\n",
    "print(temp)"
   ]
  },
  {
   "cell_type": "markdown",
   "metadata": {},
   "source": [
    "2.  Work smarter not harder - embrace the built-in data types. I think my over-confident male ego I wanted to code everything myself. Turns out people the python base code is much better than anything I could write. For instance using the set data type."
   ]
  },
  {
   "cell_type": "code",
   "execution_count": 12,
   "metadata": {},
   "outputs": [
    {
     "name": "stdout",
     "output_type": "stream",
     "text": [
      "0.26912617683410645\n"
     ]
    }
   ],
   "source": [
    "start = time.time()\n",
    "for word in vocab[:-100:-1]:\n",
    "    if not set(list(word)).issubset(letters):\n",
    "        vocab.remove(word)\n",
    "end = time.time()\n",
    "print(end-start)"
   ]
  },
  {
   "cell_type": "code",
   "execution_count": 13,
   "metadata": {},
   "outputs": [
    {
     "name": "stdout",
     "output_type": "stream",
     "text": [
      "0.2168591022491455 165\n"
     ]
    }
   ],
   "source": [
    "vocab = words.words()\n",
    "start = time.time()\n",
    "vocab[:] = [word for word in vocab[::-1] if set(list(word)).issubset(letters)]\n",
    "end = time.time()\n",
    "print(end-start, len(vocab))"
   ]
  },
  {
   "cell_type": "code",
   "execution_count": 14,
   "metadata": {},
   "outputs": [
    {
     "name": "stdout",
     "output_type": "stream",
     "text": [
      "0.07671403884887695 165\n"
     ]
    }
   ],
   "source": [
    "\n",
    "vocab = words.words()\n",
    "start = time.time()\n",
    "\n",
    "def evaluate(word):\n",
    "    for letter in word:\n",
    "        if not letter in letters:\n",
    "            return False\n",
    "    else:\n",
    "        return True\n",
    "    \n",
    "vocab[:] = [word for word in vocab[::-1] if evaluate(word)]\n",
    "end = time.time()\n",
    "print(end-start, len(vocab))"
   ]
  },
  {
   "cell_type": "markdown",
   "metadata": {},
   "source": [
    "# Lazy Method 2\n",
    "\n",
    "### Lazy only loads words that meet criteria\n",
    "\n",
    "Three insights in this method. \n",
    "1. Instead of iterating through the list 4 times to check each solution criteria iterate through the list once and check all four at once. \n",
    "2. Instead of loading the entire vocab into memory, read the corpus one word at a time and only load it to memory if it passes the solution criteria check. \n",
    "3. Slice into the list istead of iterating through it.\n",
    "\n",
    "        Slice operations require more thought. To access the slice [a:b] of a list, we \n",
    "        must iterate over every element between indices a and b. So, slice access is \n",
    "        O(k)O(k), where kk is the size of the slice. Deleting a slice is O(n)O(n) for \n",
    "        the same reason that deleting a single element is O(n)O(n): nn subsequent \n",
    "        elements must be shifted toward the list's beginning.[1]\n",
    "        \n",
    "        [1] https://bradfieldcs.com/algos/analysis/performance-of-python-types/\n"
   ]
  },
  {
   "cell_type": "code",
   "execution_count": 15,
   "metadata": {},
   "outputs": [
    {
     "name": "stdout",
     "output_type": "stream",
     "text": [
      "1.7036120891571045\n"
     ]
    }
   ],
   "source": [
    "start = time.time()\n",
    "vocab = words.words()\n",
    "for word in vocab[:-1000:-1]: #iterates the 1000 words at the back of the list ONLY\n",
    "    if not set(list(word)).issubset(letters):\n",
    "        vocab.remove(word)\n",
    "end = time.time()\n",
    "print(end-start)"
   ]
  },
  {
   "cell_type": "code",
   "execution_count": 16,
   "metadata": {},
   "outputs": [
    {
     "name": "stdout",
     "output_type": "stream",
     "text": [
      "0.22055292129516602 165\n"
     ]
    },
    {
     "data": {
      "text/plain": [
       "['tall', 'cat', 'at', 'any', 'ant', 'all', 'act', 'a', 'yn', 'yaya']"
      ]
     },
     "execution_count": 16,
     "metadata": {},
     "output_type": "execute_result"
    }
   ],
   "source": [
    "vocab = words.words()\n",
    "start = time.time()\n",
    "vocab[:] = [word for word in vocab[::-1] if set(list(word)).issubset(letters)]\n",
    "end = time.time()\n",
    "print(end-start, len(vocab))\n",
    "vocab[:10]"
   ]
  },
  {
   "cell_type": "code",
   "execution_count": 17,
   "metadata": {},
   "outputs": [
    {
     "name": "stdout",
     "output_type": "stream",
     "text": [
      "0.08446621894836426 165\n"
     ]
    },
    {
     "data": {
      "text/plain": [
       "['tall', 'cat', 'at', 'any', 'ant', 'all', 'act', 'a', 'yn', 'yaya']"
      ]
     },
     "execution_count": 17,
     "metadata": {},
     "output_type": "execute_result"
    }
   ],
   "source": [
    "vocab = words.words()\n",
    "start = time.time()\n",
    "\n",
    "def evaluate(word):\n",
    "    for letter in word:\n",
    "        if not letter in letters:\n",
    "            return False\n",
    "    else:\n",
    "        return True\n",
    "    \n",
    "vocab[:] = [word for word in vocab[::-1] if evaluate(word)]\n",
    "end = time.time()\n",
    "print(end-start, len(vocab))\n",
    "vocab[:10]"
   ]
  },
  {
   "cell_type": "markdown",
   "metadata": {},
   "source": [
    "# Method 3 (depreciated )\n",
    "\n",
    "### A Trie data type \n",
    "\n",
    "![](https://media.geeksforgeeks.org/wp-content/cdn-uploads/Trie.png)"
   ]
  },
  {
   "cell_type": "markdown",
   "metadata": {},
   "source": [
    "Trie is an efficient information reTrieval data structure. Using Trie, search complexities can be brought to optimal limit (key length). If we store keys in binary search tree, a well balanced BST will need time proportional to M * log N, where M is maximum string length and N is number of keys in tree. Using Trie, we can search the key in O(M) time. However the penalty is on Trie storage requirements [2]\n",
    "\n",
    "[2] https://www.geeksforgeeks.org/trie-insert-and-search/"
   ]
  },
  {
   "cell_type": "markdown",
   "metadata": {},
   "source": [
    "# Pro method\n",
    "\n",
    "I was writing a script that would scrape the daily puzzle and automate the solution generation progress. While parsing the code I noticed that the solutions are passed in javascript dictonary.\n"
   ]
  },
  {
   "cell_type": "code",
   "execution_count": 18,
   "metadata": {},
   "outputs": [
    {
     "data": {
      "text/plain": [
       "{'today': {'expiration': 1592290800,\n",
       "  'displayWeekday': 'Monday',\n",
       "  'displayDate': 'June 15, 2020',\n",
       "  'printDate': '2020-06-15',\n",
       "  'centerLetter': 'n',\n",
       "  'outerLetters': ['a', 'c', 'l', 't', 'v', 'y'],\n",
       "  'validLetters': ['n', 'a', 'c', 'l', 't', 'v', 'y'],\n",
       "  'pangrams': ['vacantly'],\n",
       "  'answers': ['vacantly',\n",
       "   'anal',\n",
       "   'anally',\n",
       "   'annal',\n",
       "   'canal',\n",
       "   'cancan',\n",
       "   'canna',\n",
       "   'canny',\n",
       "   'cant',\n",
       "   'cantata',\n",
       "   'clan',\n",
       "   'cyan',\n",
       "   'lantana',\n",
       "   'naan',\n",
       "   'nana',\n",
       "   'nanny',\n",
       "   'natal',\n",
       "   'natant',\n",
       "   'natty',\n",
       "   'naval',\n",
       "   'navally',\n",
       "   'navy',\n",
       "   'vacancy',\n",
       "   'vacant'],\n",
       "  'id': 5593,\n",
       "  'freeExpiration': 0,\n",
       "  'editor': 'Sam Ezersky'},\n",
       " 'yesterday': {'displayWeekday': 'Sunday',\n",
       "  'displayDate': 'June 14, 2020',\n",
       "  'printDate': '2020-06-14',\n",
       "  'centerLetter': 'l',\n",
       "  'outerLetters': ['g', 'h', 'm', 'o', 't', 'y'],\n",
       "  'validLetters': ['l', 'g', 'h', 'm', 'o', 't', 'y'],\n",
       "  'pangrams': ['mythology'],\n",
       "  'answers': ['mythology',\n",
       "   'glom',\n",
       "   'gloom',\n",
       "   'gloomy',\n",
       "   'goggly',\n",
       "   'golly',\n",
       "   'googly',\n",
       "   'googol',\n",
       "   'holly',\n",
       "   'holt',\n",
       "   'holy',\n",
       "   'homology',\n",
       "   'hotly',\n",
       "   'logo',\n",
       "   'logy',\n",
       "   'loll',\n",
       "   'loom',\n",
       "   'loot',\n",
       "   'lotto',\n",
       "   'moll',\n",
       "   'molt',\n",
       "   'otology',\n",
       "   'toll',\n",
       "   'tool'],\n",
       "  'id': 4330,\n",
       "  'freeExpiration': 0,\n",
       "  'editor': 'Sam Ezersky'}}"
      ]
     },
     "execution_count": 18,
     "metadata": {},
     "output_type": "execute_result"
    }
   ],
   "source": [
    "p.gameDataDict"
   ]
  },
  {
   "cell_type": "code",
   "execution_count": 19,
   "metadata": {},
   "outputs": [
    {
     "name": "stdout",
     "output_type": "stream",
     "text": [
      "8.168658971786499 24\n"
     ]
    }
   ],
   "source": [
    "Bee = Pro()"
   ]
  },
  {
   "cell_type": "code",
   "execution_count": 20,
   "metadata": {},
   "outputs": [
    {
     "data": {
      "text/plain": [
       "['vacantly',\n",
       " 'anal',\n",
       " 'anally',\n",
       " 'annal',\n",
       " 'canal',\n",
       " 'cancan',\n",
       " 'canna',\n",
       " 'canny',\n",
       " 'cant',\n",
       " 'cantata',\n",
       " 'clan',\n",
       " 'cyan',\n",
       " 'lantana',\n",
       " 'naan',\n",
       " 'nana',\n",
       " 'nanny',\n",
       " 'natal',\n",
       " 'natant',\n",
       " 'natty',\n",
       " 'naval',\n",
       " 'navally',\n",
       " 'navy',\n",
       " 'vacancy',\n",
       " 'vacant']"
      ]
     },
     "execution_count": 20,
     "metadata": {},
     "output_type": "execute_result"
    }
   ],
   "source": [
    "Bee.answers"
   ]
  },
  {
   "cell_type": "code",
   "execution_count": null,
   "metadata": {},
   "outputs": [],
   "source": []
  }
 ],
 "metadata": {
  "kernelspec": {
   "display_name": "Python 3",
   "language": "python",
   "name": "python3"
  },
  "language_info": {
   "codemirror_mode": {
    "name": "ipython",
    "version": 3
   },
   "file_extension": ".py",
   "mimetype": "text/x-python",
   "name": "python",
   "nbconvert_exporter": "python",
   "pygments_lexer": "ipython3",
   "version": "3.7.4"
  }
 },
 "nbformat": 4,
 "nbformat_minor": 2
}
