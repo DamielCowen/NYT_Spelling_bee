{
 "cells": [
  {
   "cell_type": "code",
   "execution_count": 3,
   "metadata": {},
   "outputs": [],
   "source": [
    "\n",
    "from lxml import html\n",
    "import requests\n",
    "\n",
    "from bs4 import BeautifulSoup\n",
    "\n"
   ]
  },
  {
   "cell_type": "code",
   "execution_count": 2,
   "metadata": {},
   "outputs": [
    {
     "ename": "IndexError",
     "evalue": "string index out of range",
     "output_type": "error",
     "traceback": [
      "\u001b[0;31m---------------------------------------------------------------------------\u001b[0m",
      "\u001b[0;31mIndexError\u001b[0m                                Traceback (most recent call last)",
      "\u001b[0;32m<ipython-input-2-a4764bfcc563>\u001b[0m in \u001b[0;36m<module>\u001b[0;34m\u001b[0m\n\u001b[1;32m     10\u001b[0m \u001b[0mtemp\u001b[0m \u001b[0;34m=\u001b[0m \u001b[0mgameData\u001b[0m\u001b[0;34m[\u001b[0m\u001b[0;36m0\u001b[0m\u001b[0;34m]\u001b[0m\u001b[0;34m[\u001b[0m\u001b[0;36m213\u001b[0m\u001b[0;34m:\u001b[0m\u001b[0;36m240\u001b[0m\u001b[0;34m]\u001b[0m\u001b[0;34m.\u001b[0m\u001b[0msplit\u001b[0m\u001b[0;34m(\u001b[0m\u001b[0;34m','\u001b[0m\u001b[0;34m)\u001b[0m\u001b[0;34m\u001b[0m\u001b[0;34m\u001b[0m\u001b[0m\n\u001b[1;32m     11\u001b[0m \u001b[0;32mfor\u001b[0m \u001b[0mletter\u001b[0m \u001b[0;32min\u001b[0m \u001b[0mtemp\u001b[0m\u001b[0;34m:\u001b[0m\u001b[0;34m\u001b[0m\u001b[0;34m\u001b[0m\u001b[0m\n\u001b[0;32m---> 12\u001b[0;31m     \u001b[0mletters\u001b[0m\u001b[0;34m.\u001b[0m\u001b[0mappend\u001b[0m\u001b[0;34m(\u001b[0m\u001b[0mletter\u001b[0m\u001b[0;34m[\u001b[0m\u001b[0;36m1\u001b[0m\u001b[0;34m]\u001b[0m\u001b[0;34m)\u001b[0m\u001b[0;34m\u001b[0m\u001b[0;34m\u001b[0m\u001b[0m\n\u001b[0m\u001b[1;32m     13\u001b[0m \u001b[0;31m#get center letter\u001b[0m\u001b[0;34m\u001b[0m\u001b[0;34m\u001b[0m\u001b[0;34m\u001b[0m\u001b[0m\n\u001b[1;32m     14\u001b[0m \u001b[0mcenterLetter\u001b[0m \u001b[0;34m=\u001b[0m \u001b[0mgameData\u001b[0m\u001b[0;34m[\u001b[0m\u001b[0;36m0\u001b[0m\u001b[0;34m]\u001b[0m\u001b[0;34m[\u001b[0m\u001b[0;36m153\u001b[0m\u001b[0;34m]\u001b[0m\u001b[0;34m\u001b[0m\u001b[0;34m\u001b[0m\u001b[0m\n",
      "\u001b[0;31mIndexError\u001b[0m: string index out of range"
     ]
    }
   ],
   "source": [
    "url = 'https://www.nytimes.com/puzzles/spelling-bee?campaignId=4YLLF&gclid=CjwKCAjwguzzBRBiEiwAgU0FTxGdznKnSQ-fEFI9WXpNFkBS0P7XVpbrSfgyESobdHCn1jQP4Cao-RoCdIIQAvD_BwE&gclsrc=aw.ds'\n",
    "xpath ='/html/body/div[2]/div[2]/div[2]/script/text()'\n",
    "letters = []\n",
    "winners = []\n",
    "\n",
    "page = requests.get(url)\n",
    "tree = html.fromstring(page.content)\n",
    "gameData = tree.xpath(xpath)\n",
    "#get all letters\n",
    "temp = gameData[0][213:240].split(',')\n",
    "# for letter in temp:\n",
    "#     letters.append(letter[1])\n",
    "# #get center letter\n",
    "# centerLetter = gameData[0][153]\n",
    "# #get solutions\n",
    "# letters"
   ]
  },
  {
   "cell_type": "code",
   "execution_count": 4,
   "metadata": {},
   "outputs": [
    {
     "data": {
      "text/plain": [
       "['\"', '\"c\"', '\"e\"', '\"m\"', '\"t\"', '\"v\"', '\"z\"]', '']"
      ]
     },
     "execution_count": 4,
     "metadata": {},
     "output_type": "execute_result"
    }
   ],
   "source": [
    "temp"
   ]
  },
  {
   "cell_type": "code",
   "execution_count": 5,
   "metadata": {},
   "outputs": [
    {
     "ename": "SyntaxError",
     "evalue": "invalid syntax (<ipython-input-5-ba40e1310696>, line 1)",
     "output_type": "error",
     "traceback": [
      "\u001b[0;36m  File \u001b[0;32m\"<ipython-input-5-ba40e1310696>\"\u001b[0;36m, line \u001b[0;32m1\u001b[0m\n\u001b[0;31m    soup.findAll('script').\u001b[0m\n\u001b[0m                           ^\u001b[0m\n\u001b[0;31mSyntaxError\u001b[0m\u001b[0;31m:\u001b[0m invalid syntax\n"
     ]
    }
   ],
   "source": [
    "soup.findAll('script')."
   ]
  },
  {
   "cell_type": "code",
   "execution_count": 33,
   "metadata": {},
   "outputs": [
    {
     "data": {
      "text/plain": [
       "['window.gameData = {\"today\":{\"expiration\":1585206000,\"displayWeekday\":\"Wednesday\",\"displayDate\":\"March 25, 2020\",\"printDate\":\"2020-03-25\",\"centerLetter\":\"o\",\"outerLetters\":[\"a\",\"b\",\"d\",\"j\",\"m\",\"r\"],\"validLetters\":[\"o\",\"a\",\"b\",\"d\",\"j\",\"m\",\"r\"],\"pangrams\":[\"doorjamb\"],\"answers\":[\"doorjamb\",\"aboard\",\"abroad\",\"adobo\",\"ammo\",\"arbor\",\"ardor\",\"armor\",\"aroma\",\"bamboo\",\"baobab\",\"barroom\",\"boar\",\"board\",\"boardroom\",\"boba\",\"bomb\",\"bombard\",\"boob\",\"booboo\",\"boom\",\"boor\",\"broad\",\"brood\",\"broom\",\"dodo\",\"dojo\",\"doodad\",\"doom\",\"door\",\"dorm\",\"jojoba\",\"major\",\"majordomo\",\"mambo\",\"marjoram\",\"mojo\",\"momma\",\"mood\",\"moor\",\"odor\",\"ramrod\",\"road\",\"roam\",\"roar\",\"rood\",\"room\"],\"id\":690,\"freeExpiration\":0,\"editor\":\"Sam Ezersky\"},\"yesterday\":{\"displayWeekday\":\"Tuesday\",\"displayDate\":\"March 24, 2020\",\"printDate\":\"2020-03-24\",\"centerLetter\":\"i\",\"outerLetters\":[\"a\",\"d\",\"l\",\"n\",\"t\",\"w\"],\"validLetters\":[\"i\",\"a\",\"d\",\"l\",\"n\",\"t\",\"w\"],\"pangrams\":[\"tailwind\"],\"answers\":[\"tailwind\",\"alit\",\"anti\",\"atilt\",\"attain\",\"attaint\",\"await\",\"dial\",\"dill\",\"dint\",\"iliad\",\"initial\",\"inlaid\",\"inland\",\"laid\",\"lain\",\"lanai\",\"lilt\",\"lint\",\"naiad\",\"nail\",\"nitwit\",\"tail\",\"taint\",\"tali\",\"tannin\",\"tidal\",\"till\",\"tilt\",\"tint\",\"titan\",\"twain\",\"twilit\",\"twill\",\"twin\",\"twit\",\"wail\",\"wait\",\"wild\",\"will\",\"wilt\",\"wind\"],\"id\":9021,\"freeExpiration\":0,\"editor\":\"Sam Ezersky\"}}']"
      ]
     },
     "execution_count": 33,
     "metadata": {},
     "output_type": "execute_result"
    }
   ],
   "source": [
    "gameData\n",
    "    "
   ]
  },
  {
   "cell_type": "code",
   "execution_count": 11,
   "metadata": {},
   "outputs": [
    {
     "data": {
      "text/plain": [
       "'o'"
      ]
     },
     "execution_count": 11,
     "metadata": {},
     "output_type": "execute_result"
    }
   ],
   "source": [
    "letters[0]"
   ]
  },
  {
   "cell_type": "code",
   "execution_count": 54,
   "metadata": {},
   "outputs": [
    {
     "ename": "TypeError",
     "evalue": "expected string or bytes-like object",
     "output_type": "error",
     "traceback": [
      "\u001b[0;31m---------------------------------------------------------------------------\u001b[0m",
      "\u001b[0;31mTypeError\u001b[0m                                 Traceback (most recent call last)",
      "\u001b[0;32m<ipython-input-54-ed1b366f252e>\u001b[0m in \u001b[0;36m<module>\u001b[0;34m\u001b[0m\n\u001b[0;32m----> 1\u001b[0;31m \u001b[0msoup\u001b[0m \u001b[0;34m=\u001b[0m \u001b[0mBeautifulSoup\u001b[0m\u001b[0;34m(\u001b[0m\u001b[0mtree\u001b[0m\u001b[0;34m,\u001b[0m \u001b[0;34m'html.parser'\u001b[0m\u001b[0;34m)\u001b[0m\u001b[0;34m\u001b[0m\u001b[0;34m\u001b[0m\u001b[0m\n\u001b[0m",
      "\u001b[0;32m/Applications/anaconda3/lib/python3.7/site-packages/bs4/__init__.py\u001b[0m in \u001b[0;36m__init__\u001b[0;34m(self, markup, features, builder, parse_only, from_encoding, exclude_encodings, **kwargs)\u001b[0m\n\u001b[1;32m    298\u001b[0m          \u001b[0mself\u001b[0m\u001b[0;34m.\u001b[0m\u001b[0mcontains_replacement_characters\u001b[0m\u001b[0;34m)\u001b[0m \u001b[0;32min\u001b[0m \u001b[0;34m(\u001b[0m\u001b[0;34m\u001b[0m\u001b[0;34m\u001b[0m\u001b[0m\n\u001b[1;32m    299\u001b[0m              self.builder.prepare_markup(\n\u001b[0;32m--> 300\u001b[0;31m                  markup, from_encoding, exclude_encodings=exclude_encodings)):\n\u001b[0m\u001b[1;32m    301\u001b[0m             \u001b[0mself\u001b[0m\u001b[0;34m.\u001b[0m\u001b[0mreset\u001b[0m\u001b[0;34m(\u001b[0m\u001b[0;34m)\u001b[0m\u001b[0;34m\u001b[0m\u001b[0;34m\u001b[0m\u001b[0m\n\u001b[1;32m    302\u001b[0m             \u001b[0;32mtry\u001b[0m\u001b[0;34m:\u001b[0m\u001b[0;34m\u001b[0m\u001b[0;34m\u001b[0m\u001b[0m\n",
      "\u001b[0;32m/Applications/anaconda3/lib/python3.7/site-packages/bs4/builder/_htmlparser.py\u001b[0m in \u001b[0;36mprepare_markup\u001b[0;34m(self, markup, user_specified_encoding, document_declared_encoding, exclude_encodings)\u001b[0m\n\u001b[1;32m    238\u001b[0m         \u001b[0mtry_encodings\u001b[0m \u001b[0;34m=\u001b[0m \u001b[0;34m[\u001b[0m\u001b[0muser_specified_encoding\u001b[0m\u001b[0;34m,\u001b[0m \u001b[0mdocument_declared_encoding\u001b[0m\u001b[0;34m]\u001b[0m\u001b[0;34m\u001b[0m\u001b[0;34m\u001b[0m\u001b[0m\n\u001b[1;32m    239\u001b[0m         dammit = UnicodeDammit(markup, try_encodings, is_html=True,\n\u001b[0;32m--> 240\u001b[0;31m                                exclude_encodings=exclude_encodings)\n\u001b[0m\u001b[1;32m    241\u001b[0m         yield (dammit.markup, dammit.original_encoding,\n\u001b[1;32m    242\u001b[0m                \u001b[0mdammit\u001b[0m\u001b[0;34m.\u001b[0m\u001b[0mdeclared_html_encoding\u001b[0m\u001b[0;34m,\u001b[0m\u001b[0;34m\u001b[0m\u001b[0;34m\u001b[0m\u001b[0m\n",
      "\u001b[0;32m/Applications/anaconda3/lib/python3.7/site-packages/bs4/dammit.py\u001b[0m in \u001b[0;36m__init__\u001b[0;34m(self, markup, override_encodings, smart_quotes_to, is_html, exclude_encodings)\u001b[0m\n\u001b[1;32m    372\u001b[0m \u001b[0;34m\u001b[0m\u001b[0m\n\u001b[1;32m    373\u001b[0m         \u001b[0mu\u001b[0m \u001b[0;34m=\u001b[0m \u001b[0;32mNone\u001b[0m\u001b[0;34m\u001b[0m\u001b[0;34m\u001b[0m\u001b[0m\n\u001b[0;32m--> 374\u001b[0;31m         \u001b[0;32mfor\u001b[0m \u001b[0mencoding\u001b[0m \u001b[0;32min\u001b[0m \u001b[0mself\u001b[0m\u001b[0;34m.\u001b[0m\u001b[0mdetector\u001b[0m\u001b[0;34m.\u001b[0m\u001b[0mencodings\u001b[0m\u001b[0;34m:\u001b[0m\u001b[0;34m\u001b[0m\u001b[0;34m\u001b[0m\u001b[0m\n\u001b[0m\u001b[1;32m    375\u001b[0m             \u001b[0mmarkup\u001b[0m \u001b[0;34m=\u001b[0m \u001b[0mself\u001b[0m\u001b[0;34m.\u001b[0m\u001b[0mdetector\u001b[0m\u001b[0;34m.\u001b[0m\u001b[0mmarkup\u001b[0m\u001b[0;34m\u001b[0m\u001b[0;34m\u001b[0m\u001b[0m\n\u001b[1;32m    376\u001b[0m             \u001b[0mu\u001b[0m \u001b[0;34m=\u001b[0m \u001b[0mself\u001b[0m\u001b[0;34m.\u001b[0m\u001b[0m_convert_from\u001b[0m\u001b[0;34m(\u001b[0m\u001b[0mencoding\u001b[0m\u001b[0;34m)\u001b[0m\u001b[0;34m\u001b[0m\u001b[0;34m\u001b[0m\u001b[0m\n",
      "\u001b[0;32m/Applications/anaconda3/lib/python3.7/site-packages/bs4/dammit.py\u001b[0m in \u001b[0;36mencodings\u001b[0;34m(self)\u001b[0m\n\u001b[1;32m    263\u001b[0m         \u001b[0;32mif\u001b[0m \u001b[0mself\u001b[0m\u001b[0;34m.\u001b[0m\u001b[0mdeclared_encoding\u001b[0m \u001b[0;32mis\u001b[0m \u001b[0;32mNone\u001b[0m\u001b[0;34m:\u001b[0m\u001b[0;34m\u001b[0m\u001b[0;34m\u001b[0m\u001b[0m\n\u001b[1;32m    264\u001b[0m             self.declared_encoding = self.find_declared_encoding(\n\u001b[0;32m--> 265\u001b[0;31m                 self.markup, self.is_html)\n\u001b[0m\u001b[1;32m    266\u001b[0m         \u001b[0;32mif\u001b[0m \u001b[0mself\u001b[0m\u001b[0;34m.\u001b[0m\u001b[0m_usable\u001b[0m\u001b[0;34m(\u001b[0m\u001b[0mself\u001b[0m\u001b[0;34m.\u001b[0m\u001b[0mdeclared_encoding\u001b[0m\u001b[0;34m,\u001b[0m \u001b[0mtried\u001b[0m\u001b[0;34m)\u001b[0m\u001b[0;34m:\u001b[0m\u001b[0;34m\u001b[0m\u001b[0;34m\u001b[0m\u001b[0m\n\u001b[1;32m    267\u001b[0m             \u001b[0;32myield\u001b[0m \u001b[0mself\u001b[0m\u001b[0;34m.\u001b[0m\u001b[0mdeclared_encoding\u001b[0m\u001b[0;34m\u001b[0m\u001b[0;34m\u001b[0m\u001b[0m\n",
      "\u001b[0;32m/Applications/anaconda3/lib/python3.7/site-packages/bs4/dammit.py\u001b[0m in \u001b[0;36mfind_declared_encoding\u001b[0;34m(cls, markup, is_html, search_entire_document)\u001b[0m\n\u001b[1;32m    321\u001b[0m \u001b[0;34m\u001b[0m\u001b[0m\n\u001b[1;32m    322\u001b[0m         \u001b[0mdeclared_encoding\u001b[0m \u001b[0;34m=\u001b[0m \u001b[0;32mNone\u001b[0m\u001b[0;34m\u001b[0m\u001b[0;34m\u001b[0m\u001b[0m\n\u001b[0;32m--> 323\u001b[0;31m         \u001b[0mdeclared_encoding_match\u001b[0m \u001b[0;34m=\u001b[0m \u001b[0mxml_encoding_re\u001b[0m\u001b[0;34m.\u001b[0m\u001b[0msearch\u001b[0m\u001b[0;34m(\u001b[0m\u001b[0mmarkup\u001b[0m\u001b[0;34m,\u001b[0m \u001b[0mendpos\u001b[0m\u001b[0;34m=\u001b[0m\u001b[0mxml_endpos\u001b[0m\u001b[0;34m)\u001b[0m\u001b[0;34m\u001b[0m\u001b[0;34m\u001b[0m\u001b[0m\n\u001b[0m\u001b[1;32m    324\u001b[0m         \u001b[0;32mif\u001b[0m \u001b[0;32mnot\u001b[0m \u001b[0mdeclared_encoding_match\u001b[0m \u001b[0;32mand\u001b[0m \u001b[0mis_html\u001b[0m\u001b[0;34m:\u001b[0m\u001b[0;34m\u001b[0m\u001b[0;34m\u001b[0m\u001b[0m\n\u001b[1;32m    325\u001b[0m             \u001b[0mdeclared_encoding_match\u001b[0m \u001b[0;34m=\u001b[0m \u001b[0mhtml_meta_re\u001b[0m\u001b[0;34m.\u001b[0m\u001b[0msearch\u001b[0m\u001b[0;34m(\u001b[0m\u001b[0mmarkup\u001b[0m\u001b[0;34m,\u001b[0m \u001b[0mendpos\u001b[0m\u001b[0;34m=\u001b[0m\u001b[0mhtml_endpos\u001b[0m\u001b[0;34m)\u001b[0m\u001b[0;34m\u001b[0m\u001b[0;34m\u001b[0m\u001b[0m\n",
      "\u001b[0;31mTypeError\u001b[0m: expected string or bytes-like object"
     ]
    }
   ],
   "source": [
    "soup = BeautifulSoup(page.headers"
   ]
  },
  {
   "cell_type": "code",
   "execution_count": 53,
   "metadata": {},
   "outputs": [
    {
     "data": {
      "text/plain": [
       "(bs4.BeautifulSoup, <!DOCTYPE html>\n",
       " \n",
       " <html><head><title>Spelling Bee - The New York Times</title><meta content=\"width=device-width, initial-scale=1, minimal-ui\" name=\"viewport\"/><meta charset=\"utf-8\" content=\"text/html\" http-equiv=\"Content-Type\"/><meta content=\"IE=edge,chrome=1\" http-equiv=\"X-UA-Compatible\"/><meta content=\"v6.1.6\" name=\"version\"/><meta content=\"Crosswords/Games\" name=\"CG\"/><meta content=\"spelling bee\" name=\"PT\"/><link href=\"/games-assets/v2/metadata/sb-web-manifest.json?v=v6.1.6\" rel=\"manifest\"/><link href=\"/games-assets/v2/metadata/sb-apple-touch-icon.png?v=v6.1.6\" rel=\"apple-touch-icon\" sizes=\"180x180\"/><link color=\"#f7cc32\" href=\"/games-assets/v2/metadata/sb-safari-pinned-tab.svg?v=v6.1.6\" rel=\"mask-icon\"/><link href=\"/games-assets/v2/metadata/sb-favicon.ico?v=v6.1.6\" rel=\"shortcut icon\"/><meta content=\"Spelling Bee\" name=\"apple-mobile-web-app-title\"/><meta content=\"Spelling Bee\" name=\"application-name\"/><meta content=\"#f7cc32\" name=\"msapplication-TileColor\"/><meta content=\"#f7cc32\" name=\"theme-color\"/><meta content=\"The New York Times Spelling Bee\" property=\"og:title\"/><meta content=\"https://www.nytimes.com/puzzles/spelling-bee\" property=\"og:url\"/><meta content=\"Play the daily spelling bee\" property=\"og:description\"/><meta content=\"https://static01.nyt.com/packages/other/crossword/fb-og/purple.png\" property=\"og:image\"/><style id=\"responsive.css\">#ratio-hook,#width-hook{position:absolute;top:-100em;-webkit-transition:width 0.001ms;transition:width 0.001ms}@media (max-width: 443.98px){#width-hook{width:0px}}@media (min-width: 444px) and (max-width: 767.98px){#width-hook{width:1px}}@media (min-width: 768px) and (max-width: 991.98px){#width-hook{width:2px}}@media (min-width: 992px) and (max-width: 1199.98px){#width-hook{width:3px}}@media (min-width: 1200px){#width-hook{width:4px}}@media (orientation: portrait){#ratio-hook{width:0px}}@media (orientation: landscape){#ratio-hook{width:1px}}\n",
       " </style><link href=\"/games-assets/v2/foundation.a377e934b72cdb0ab64106e4b4b0eadd.css\" rel=\"stylesheet\" type=\"text/css\"/><link href=\"/games-assets/v2/foundation-game.447f7f523348fef48c8d0f567fb26435.css\" rel=\"stylesheet\" type=\"text/css\"/><link href=\"/games-assets/v2/spelling-bee.6118f782514c790c0cde6f877033b960.css\" rel=\"stylesheet\" type=\"text/css\"/></head><body class=\"pz-page pz-desktop pz-use-intercept\"><header class=\"pz-header pz-game-header\"><nav class=\"pz-nav pz-flex-row\" id=\"js-global-nav\"><div class=\"pz-nav__hamburger-helper pz-nav__hamburger pz-nav__hamburger-squeeze\" id=\"js-nav-burger\"><span class=\"pz-nav__hamburger-box\"><span class=\"pz-nav__hamburger-inner\"></span></span></div><a aria-label=\"New York Times Games Logo. Click for more puzzles\" class=\"pz-nav__title pz-h1\" href=\"/crosswords\"><svg class=\"pz-nav__logo\" fill=\"none\" height=\"21\" viewbox=\"0 0 160 21\" width=\"160\" xmlns=\"http://www.w3.org/2000/svg\"><path d=\"M20.8694 1.66095H20.3694V19.814H20.8694V1.66095Z\" fill=\"black\"></path><path d=\"M15.4617 12.9011C14.8285 14.5897 13.6148 15.9617 11.9261 16.6478V12.9011L13.9842 11.0541L11.9261 9.25989V6.67414C13.7731 6.5686 15.0923 5.1438 15.0923 3.50792C15.0923 1.29156 12.9815 0.5 11.8206 0.5C11.5567 0.5 11.2929 0.5 10.8707 0.605541V0.711082C11.029 0.711082 11.2401 0.711082 11.3456 0.711082C12.19 0.711082 12.8232 1.08047 12.8232 1.87203C12.8232 2.45251 12.3483 3.03298 11.504 3.03298C9.44591 3.03298 7.01847 1.3971 4.43272 1.3971C2.11082 1.3971 0.474934 3.13852 0.474934 4.87995C0.474934 6.62137 1.47757 7.20185 2.53298 7.57124V7.4657C2.21636 7.25462 1.95251 6.88522 1.95251 6.30475C1.95251 5.51319 2.69129 4.87995 3.58839 4.87995C5.80475 4.87995 9.34037 6.72691 11.5567 6.72691H11.7678V9.31266L9.70976 11.0541L11.7678 12.9011V16.7005C10.9235 17.0171 10.0264 17.1227 9.12929 17.1227C5.69921 17.1227 3.53562 15.0646 3.53562 11.5818C3.53562 10.7375 3.64116 9.94591 3.85224 9.15435L5.5409 8.41557V16.0673L9.02375 14.5369V6.72691L3.90501 8.99604C4.43272 7.4657 5.48813 6.41029 6.75462 5.77704V5.72427C3.32454 6.46306 0 9.04881 0 12.9538C0 17.4393 3.79947 20.5528 8.17942 20.5528C12.876 20.5528 15.5145 17.4393 15.5145 12.9011H15.4617Z\" fill=\"black\"></path><path d=\"M41.7942 18.7058C39.5251 19.814 37.9947 20.1306 35.62 20.1306C29.8153 20.1306 25.8575 16.1728 25.8575 10.2097C25.8575 7.30736 26.7546 4.98546 28.3905 3.45512C29.8681 2.08309 31.9789 1.3443 34.1425 1.3443C35.62 1.3443 36.781 1.60815 38.0475 2.29417V1.66092H41.7414V8.62662H38.0475C37.8364 6.5158 37.0448 5.51316 35.6728 5.51316C33.9314 5.51316 32.7177 7.36013 32.7177 9.94588C32.7177 11.3707 33.0871 12.4789 33.7731 13.4287C34.6174 14.6425 36.095 15.3285 37.5726 15.3285C38.7863 15.3285 39.7361 15.0118 41.7942 13.7454V18.7058Z\" fill=\"black\"></path><path d=\"M54.7229 11.4235C53.2981 11.4235 52.6649 11.4235 51.9789 11.6345C51.1873 11.7929 50.6068 12.2678 50.2375 12.8483C50.0264 13.2704 49.9208 13.7981 49.9208 15.2229V16.4894H51.2929V19.8667H43.0079V16.4894H44.0633V10.7374H43.0079V7.36014H49.8681V9.25988C50.9762 8.04616 52.2427 7.04352 53.9314 7.04352C54.1425 7.04352 54.4063 7.04352 54.6702 7.04352V11.4235H54.7229Z\" fill=\"black\"></path><path d=\"M62.4274 20.0778C58.5752 20.0778 54.8813 17.8087 54.8813 13.6398C54.8813 9.41818 58.4696 7.14905 62.3747 7.14905C66.3324 7.14905 69.8681 9.41818 69.8681 13.6398C69.8681 17.8614 66.2797 20.0778 62.4274 20.0778ZM62.3219 10.4736C60.9499 10.4736 60.7388 12.2678 60.7388 13.3232C60.7388 14.3786 60.8443 16.5422 62.3219 16.5422C63.7995 16.5422 64.0105 14.8008 64.0105 13.6926C64.0105 12.5316 63.9578 10.4736 62.3219 10.4736Z\" fill=\"black\"></path><path d=\"M77.467 20.0778C76.2005 20.0778 75.2507 19.8667 73.4565 19.1807V19.814H70.6596V15.6979H73.4037C73.7203 16.806 74.1952 17.3337 75.2507 17.3337C76.0422 17.3337 76.5171 17.0171 76.5171 16.3839C76.5171 15.9617 76.2533 15.5923 75.6728 15.3812L72.9815 14.2203C71.6095 13.6398 70.8707 12.4261 70.8707 11.1068C70.8707 8.99601 72.9815 7.14905 75.62 7.14905C76.7282 7.14905 77.6253 7.36013 78.839 7.9406V7.4129H81.6359V11.3707H79.0501C78.839 10.1042 78.3641 9.47095 77.4142 9.47095C76.7282 9.47095 76.2005 9.89311 76.2005 10.4208C76.2005 10.8957 76.5171 11.2651 77.1504 11.529L79.7889 12.5844C81.5303 13.2704 82.3219 14.3786 82.3219 15.8562C82.4274 18.2308 80.3694 20.0778 77.467 20.0778Z\" fill=\"black\"></path><path d=\"M89.8681 20.0778C88.6016 20.0778 87.6517 19.8667 85.8575 19.1807V19.814H83.0607V15.6979H85.8047C86.1214 16.806 86.5963 17.3337 87.6517 17.3337C88.4433 17.3337 88.9182 17.0171 88.9182 16.3839C88.9182 15.9617 88.6543 15.5923 88.0739 15.3812L85.3826 14.2203C84.0105 13.6398 83.2718 12.4261 83.2718 11.1068C83.2718 8.99601 85.3826 7.14905 88.0211 7.14905C89.1293 7.14905 90.0264 7.36013 91.2401 7.9406V7.4129H94.0369V11.3707H91.4512C91.2401 10.1042 90.7652 9.47095 89.8153 9.47095C89.1293 9.47095 88.6016 9.89311 88.6016 10.4208C88.6016 10.8957 88.9182 11.2651 89.5514 11.529L92.19 12.5844C93.9314 13.2704 94.7229 14.3786 94.7229 15.8562C94.7757 18.2308 92.7704 20.0778 89.8681 20.0778Z\" fill=\"black\"></path><path d=\"M115.62 10.7375H115.145L112.296 19.7612H107.441L105.435 13.9037L103.061 19.7612H98.3641L96.095 10.7375H95.3034V7.36017H102.322V10.7375H101.425L102.005 14.4842H102.058L104.802 7.36017H108.39L110.501 14.4842H110.554L111.662 10.7375H110.923V7.36017H115.62V10.7375Z\" fill=\"black\"></path><path d=\"M123.325 20.0778C119.472 20.0778 115.778 17.8087 115.778 13.6398C115.778 9.41818 119.367 7.14905 123.272 7.14905C127.23 7.14905 130.765 9.41818 130.765 13.6398C130.765 17.8614 127.177 20.0778 123.325 20.0778ZM123.219 10.4736C121.847 10.4736 121.636 12.2678 121.636 13.3232C121.636 14.3786 121.741 16.5422 123.219 16.5422C124.697 16.5422 124.908 14.8008 124.908 13.6926C124.908 12.5316 124.855 10.4736 123.219 10.4736Z\" fill=\"black\"></path><path d=\"M143.377 11.4235C141.953 11.4235 141.319 11.4235 140.633 11.6345C139.842 11.7929 139.261 12.2678 138.892 12.8483C138.681 13.2704 138.575 13.7981 138.575 15.2229V16.4894H139.947V19.8667H131.662V16.4894H132.718V10.7374H131.662V7.36014H138.522V9.25988C139.631 8.04616 140.897 7.04352 142.586 7.04352C142.797 7.04352 143.061 7.04352 143.325 7.04352V11.4235H143.377Z\" fill=\"black\"></path><path d=\"M159.947 19.814H153.034V18.653C151.768 19.4974 150.765 20.0251 149.182 20.0251C145.541 20.0251 143.799 16.7533 143.799 13.4815C143.799 10.1042 145.752 7.09631 149.393 7.09631C150.818 7.09631 151.926 7.51847 153.034 8.3628V5.03826H151.662V1.66095H158.892V16.4367H160V19.814H159.947ZM151.398 10.4736C149.921 10.4736 149.604 12.3734 149.604 13.4815C149.604 14.6425 149.71 16.5422 151.293 16.5422C152.823 16.5422 153.087 14.5369 153.087 13.376C153.14 12.3206 152.77 10.4736 151.398 10.4736Z\" fill=\"black\"></path></svg></a><div class=\"pz-nav__toolbar\" id=\"js-mobile-toolbar\"></div><div class=\"pz-nav__actions pz-flex-row\"><a class=\"pz-nav__link\" href=\"/crosswords/archive\">Archive</a><a class=\"pz-nav__link\" href=\"/puzzles/stats\">Statistics</a><a class=\"pz-nav__link\" href=\"/puzzles/leaderboards\"><span>Leaderboards </span></a><a class=\"pz-nav__link subscribe blue\" href=\"/subscription/games/lp897H9.html?campaignId=4QHQ8\">Subscribe</a><div class=\"pz-nav__profile\" id=\"js-profile-nav\"><div class=\"pz-nav__login hidden\"><a class=\"pz-nav__square-button\" href=\"https://myaccount.nytimes.com/auth/login?redirect_uri=https%3A%2F%2Fwww.nytimes.com%2Fpuzzles%2Fspelling-bee%3FcampaignId%3D4YLLF%26gclid%3DCjwKCAjwguzzBRBiEiwAgU0FTxGdznKnSQ-fEFI9WXpNFkBS0P7XVpbrSfgyESobdHCn1jQP4Cao-RoCdIIQAvD_BwE%26gclsrc%3Daw.ds&amp;response_type=cookie&amp;client_id=games&amp;application=crosswords&amp;asset=navigation-bar\">Log in</a></div><div class=\"pz-nav__logout hidden\"><div class=\"pz-nav__dropdown\"><div class=\"pz-nav__square-button dropdown\" id=\"js-nav-dropdown-button\"><span id=\"js-username-nav\">My Account</span><div class=\"pz-nav__caret\"></div></div><div class=\"hidden pz-nav__dropdown__menu\" id=\"js-nav-dropdown-menu\"><a href=\"https://myaccount.nytimes.com/mem/manage_billing.html\">Account &amp; Billing</a><a class=\"blue\" href=\"https://myaccount.nytimes.com/gst/signout?URI=https%3A%2F%2Fwww.nytimes.com%2Fpuzzles%2Fspelling-bee%3FcampaignId%3D4YLLF%26gclid%3DCjwKCAjwguzzBRBiEiwAgU0FTxGdznKnSQ-fEFI9WXpNFkBS0P7XVpbrSfgyESobdHCn1jQP4Cao-RoCdIIQAvD_BwE%26gclsrc%3Daw.ds\">Log Out</a></div></div></div></div></div></nav><div class=\"pz-nav-drawer\" id=\"js-nav-drawer\"><a class=\"pz-nav-drawer__link\" href=\"/crosswords\">Home</a><a class=\"pz-nav-drawer__link\" href=\"/crosswords/archive\">Archive</a><a class=\"pz-nav-drawer__link\" href=\"/puzzles/stats\">Statistics</a><a class=\"pz-nav-drawer__link\" href=\"/puzzles/leaderboards\">Leaderboards </a><a class=\"pz-nav-drawer__link blue\" href=\"/subscription/games/lp897H9.html?campaignId=4QHQ8\">Subscribe</a><div class=\"pz-nav__login hidden\"><div class=\"pz-nav-drawer__account-info\"><hr/><a class=\"pz-nav__square-button\" href=\"https://myaccount.nytimes.com/auth/login?redirect_uri=https%3A%2F%2Fwww.nytimes.com%2Fpuzzles%2Fspelling-bee%3FcampaignId%3D4YLLF%26gclid%3DCjwKCAjwguzzBRBiEiwAgU0FTxGdznKnSQ-fEFI9WXpNFkBS0P7XVpbrSfgyESobdHCn1jQP4Cao-RoCdIIQAvD_BwE%26gclsrc%3Daw.ds&amp;response_type=cookie&amp;client_id=games&amp;application=crosswords&amp;asset=navigation-drawer\">Login</a><a class=\"pz-nav__square-button black\" href=\"https://myaccount.nytimes.com/register?redirect_uri=https%3A%2F%2Fwww.nytimes.com%2Fpuzzles%2Fspelling-bee%3FcampaignId%3D4YLLF%26gclid%3DCjwKCAjwguzzBRBiEiwAgU0FTxGdznKnSQ-fEFI9WXpNFkBS0P7XVpbrSfgyESobdHCn1jQP4Cao-RoCdIIQAvD_BwE%26gclsrc%3Daw.ds&amp;response_type=cookie&amp;client_id=games&amp;application=crosswords&amp;asset=navigation-drawer\">Create Account</a></div></div><div class=\"pz-nav__logout hidden\"><div class=\"pz-nav-drawer__account-info\"><hr/><a class=\"pz-nav__square-button black\" href=\"https://myaccount.nytimes.com/gst/signout?URI=https%3A%2F%2Fwww.nytimes.com%2Fpuzzles%2Fspelling-bee%3FcampaignId%3D4YLLF%26gclid%3DCjwKCAjwguzzBRBiEiwAgU0FTxGdznKnSQ-fEFI9WXpNFkBS0P7XVpbrSfgyESobdHCn1jQP4Cao-RoCdIIQAvD_BwE%26gclsrc%3Daw.ds\">Log Out</a></div></div><a class=\"pz-nav-drawer__link small\" href=\"https://nytimes.com/\">NYTimes.com</a><a class=\"pz-nav-drawer__link minor ccpa-opt-out\" data-region=\"menu\" href=\"#ccpa-hamburger\" id=\"ccpa-hamburger\">Do Not Sell My Personal Information</a></div></header><div class=\"pz-intercept\"></div><div class=\"pz-content\"><div class=\"pz-section pz-section-filled pz-ad-box\"><div class=\"pz-ad place-ad\" data-position=\"top\" id=\"TopAd\"></div></div><div class=\"pz-section\" id=\"spelling-bee-container\"><div class=\"pz-row pz-game-title-bar\"><div class=\"pz-module\"><h2><em class=\"pz-game-title\">Spelling Bee</em><span class=\"pz-game-date\">March 25, 2020</span></h2><div class=\"pz-byline\"><span class=\"pz-byline__text\">Edited by Sam Ezersky</span></div></div></div><div class=\"pz-game-screen\"><div class=\"pz-game-toolbar\"><div class=\"pz-row\"><div class=\"pz-module pz-flex-row pz-game-toolbar-content\" id=\"portal-game-toolbar\"></div></div></div><div class=\"pz-game-field\" id=\"pz-game-root\"><noscript>This game requires javascript</noscript></div><div id=\"portal-game-modals\"></div><script type=\"text/javascript\">window.gameData = {\"today\":{\"expiration\":1585206000,\"displayWeekday\":\"Wednesday\",\"displayDate\":\"March 25, 2020\",\"printDate\":\"2020-03-25\",\"centerLetter\":\"o\",\"outerLetters\":[\"a\",\"b\",\"d\",\"j\",\"m\",\"r\"],\"validLetters\":[\"o\",\"a\",\"b\",\"d\",\"j\",\"m\",\"r\"],\"pangrams\":[\"doorjamb\"],\"answers\":[\"doorjamb\",\"aboard\",\"abroad\",\"adobo\",\"ammo\",\"arbor\",\"ardor\",\"armor\",\"aroma\",\"bamboo\",\"baobab\",\"barroom\",\"boar\",\"board\",\"boardroom\",\"boba\",\"bomb\",\"bombard\",\"boob\",\"booboo\",\"boom\",\"boor\",\"broad\",\"brood\",\"broom\",\"dodo\",\"dojo\",\"doodad\",\"doom\",\"door\",\"dorm\",\"jojoba\",\"major\",\"majordomo\",\"mambo\",\"marjoram\",\"mojo\",\"momma\",\"mood\",\"moor\",\"odor\",\"ramrod\",\"road\",\"roam\",\"roar\",\"rood\",\"room\"],\"id\":690,\"freeExpiration\":0,\"editor\":\"Sam Ezersky\"},\"yesterday\":{\"displayWeekday\":\"Tuesday\",\"displayDate\":\"March 24, 2020\",\"printDate\":\"2020-03-24\",\"centerLetter\":\"i\",\"outerLetters\":[\"a\",\"d\",\"l\",\"n\",\"t\",\"w\"],\"validLetters\":[\"i\",\"a\",\"d\",\"l\",\"n\",\"t\",\"w\"],\"pangrams\":[\"tailwind\"],\"answers\":[\"tailwind\",\"alit\",\"anti\",\"atilt\",\"attain\",\"attaint\",\"await\",\"dial\",\"dill\",\"dint\",\"iliad\",\"initial\",\"inlaid\",\"inland\",\"laid\",\"lain\",\"lanai\",\"lilt\",\"lint\",\"naiad\",\"nail\",\"nitwit\",\"tail\",\"taint\",\"tali\",\"tannin\",\"tidal\",\"till\",\"tilt\",\"tint\",\"titan\",\"twain\",\"twilit\",\"twill\",\"twin\",\"twit\",\"wail\",\"wait\",\"wild\",\"will\",\"wilt\",\"wind\"],\"id\":9021,\"freeExpiration\":0,\"editor\":\"Sam Ezersky\"}}</script></div></div><div class=\"pz-section pz-section-filled pz-ad-box\"><div class=\"pz-ad place-ad\" data-position=\"bottom\" id=\"TopAd1\"></div></div></div><footer class=\"pz-footer\"><div class=\"pz-footer__branding pz-flex-row\"><a href=\"https://nytimes.com/\"><i class=\"pz-footer__times-icon\"></i></a><a href=\"http://spiderbites.nytimes.com/\">Sitemap</a></div><div class=\"pz-footer__navigation\"><div class=\"pz-footer__link-col\"><h4>The Crossword</h4><a href=\"/crosswords\">Home</a><a href=\"/crosswords/archive\">Archive</a><a href=\"/puzzles/stats\">Statistics</a><a href=\"/crosswords/apps\">Download Our App</a></div><div class=\"pz-footer__link-col\"><h4>Support</h4><a href=\"/content/help/games/crosswords/crosswords.html\">FAQs</a><a href=\"mailto:NYTCrossword@nytimes.com\" id=\"js-feedback-link\" rel=\"external\" target=\"__blank\">Send Feedback</a><a href=\"/subscription/games/lp897H9.html?campaignId=4QHQ8\">Subscriptions</a><a href=\"https://www.nytimes.com/subscription/games/lp3HLK7.html\">Give a Subscription</a></div><div class=\"pz-footer__link-col\"><h4>Community</h4><a href=\"/column/wordplay\">Wordplay</a><a href=\"https://twitter.com/NYTimesWordplay\">Twitter</a><a href=\"/puzzles/submissions/crossword\">Submission Guidelines</a></div><div class=\"pz-footer__link-col\"><h4>Other Puzzles</h4><a href=\"/puzzles/kenken\">KenKen®</a><a href=\"/puzzles/set\">Set®</a><a href=\"/puzzles/sudoku\">Sudoku</a></div></div><div class=\"pz-footer__legal pz-flex-row\"><a href=\"https://www.nytco.com/\">© The New York Times Company</a><div class=\"pz-footer__legal-links\"><a href=\"/content/help/rights/privacy/policy/privacy-policy.html#pp\">Your Ad Choices</a><a href=\"/privacy\">Privacy Policy</a><a href=\"/content/help/rights/terms/terms-of-service.html\">Terms of Service</a><a class=\"ccpa-opt-out\" data-region=\"footer\" href=\"#ccpa-footer\" id=\"ccpa-footer\">Do Not Sell My Personal Information</a></div></div></footer><script type=\"text/javascript\">window.userType = {\"isLoggedIn\":false,\"hasXwd\":false,\"hasDigi\":false,\"isErsatzShortz\":false,\"inShortzMode\":false,\"entitlement\":\"anon\"}</script><script type=\"text/javascript\">window.env = {\"version\":\"v6.1.6\",\"api\":\"https:\\u002F\\u002Fnyt-games-prd.appspot.com\",\"tagx\":\"https:\\u002F\\u002Fa.nytimes.com\",\"gtm\":\"https:\\u002F\\u002Fwww.googletagmanager.com\\u002Fgtm.js?id=GTM-P528B3&gtm_auth=tfAzqo1rYDLgYhmTnSjPqw&gtm_preview=env-130&gtm_cookies_win=x\",\"name\":\"prod\"}</script><script type=\"text/javascript\">window.abra = {\"GAMES_TP12_SpellingBeeCutoff\":\"1_good\",\"GAMES_TP13_VertexGating\":\"6_puzzles\",\"GAMES_TP14_FauxLP\":\"0_control_faux_lp\"}</script><script type=\"text/javascript\">window.adUnitPath = \"spellingbee\"</script><div id=\"ratio-hook\"></div><div id=\"width-hook\"></div><script defer=\"\" src=\"/games-assets/v2/polyfills.cf1a343c9aa7a0116d199c3358ceb1bc.js\" type=\"text/javascript\"></script><script defer=\"\" id=\"responsive.js\" type=\"text/javascript\">!function(n,e){\"object\"==typeof exports&&\"undefined\"!=typeof module?module.exports=e():\"function\"==typeof define&&define.amd?define(e):(n=n||self).Responsive=e()}(this,function(){\"use strict\";var n=[\"transitionend\",\"webkitTransitionEnd\",\"oTransitionEnd\",\"msTransitionEnd\"],e=void 0;for(var i in n)if(\"on\"+n[i].toLowerCase()in window){e=n[i];break}function t(n){var i=[],t=document.getElementById(n),o={value:t.offsetWidth,subscribe:function(n){return i.push(n),function(){i.splice(i.indexOf(n),1)}}};return t.addEventListener(e,function(){var n=t.offsetWidth;if(function(n){o.value=n}(n),i.length)for(var e=i.length;e--;)i[e](n)},!1),o}return{isMobile:document.body.classList.contains(\"pz-mobile\"),ratio:t(\"ratio-hook\"),width:t(\"width-hook\")}});\n",
       " </script><script defer=\"\" src=\"/games-assets/v2/foundation.2d78d3df69b1fbb732a6e5048be49794.js\" type=\"text/javascript\"></script><script defer=\"\" src=\"/games-assets/v2/react-bundle.6e7ada6a91bc81f70b0aa18cf3fd9409.js\" type=\"text/javascript\"></script><script defer=\"\" src=\"/games-assets/v2/spelling-bee.3e11a2cb951af1843a5919bf261dfe95.js\" type=\"text/javascript\"></script><script type=\"text/javascript\">var AdSlot4=function(){\"use strict\";function A(e){var n=1<arguments.length&&void 0!==arguments[1]?arguments[1]:0,t=2<arguments.length&&void 0!==arguments[2]?arguments[2]:0,o=3<arguments.length&&void 0!==arguments[3]?arguments[3]:0,i=4<arguments.length&&void 0!==arguments[4]?arguments[4]:0,a=!(5<arguments.length&&void 0!==arguments[5])||arguments[5];if(!e||1!==e.nodeType)return!1;var d=e.getBoundingClientRect(),r=d.top-n,s=d.left,l=d.bottom,c=d.right,u=0,p=0,g=window.innerHeight,f=window.innerWidth;return a?u+o*i<=l&&p+t*i<=c&&r<=g-o*i&&s<=f-t*i:u<=r&&l<=g}var C=function(){return!(\"undefined\"==typeof window||!window.document||!window.document.createElement)&&window.self!==window.top};function P(e){var n=window.location.href,t=e.replace(/[[]]/g,\"\\$&\"),o=new RegExp(\"[?&]\".concat(t,\"(=([^&#]*)|&|#|$)\")).exec(n);return o&&o[2]?decodeURIComponent(o[2].replace(/\\+/g,\"\")):\"\"}function O(e,n,t){var o=\"\".concat(e,\"-\").concat(n);try{performance.mark(o),performance.measure(e,t,o);var i=performance.getEntriesByName(e).pop();return i?Math.round(i.duration):0}catch(e){return 0}}function R(){var e=document.referrer||\"\",n=/([a-zA-Z0-9_\\-.]+)(@|%40)([a-zA-Z0-9_\\-.]+).([a-zA-Z]{2,5})/;return n.test(e)||n.test(window.location.href)}function I(e){var n=document.cookie.match(new RegExp(\"\".concat(e,\"=([^;]+)\")));return n?n[1]:\"\"}var x={adConfigPosition:1,nonPersonalized:\"n\",collapsed:\"c\",full:\"f\",socrates:\"s\"};function j(){return I(\"nyt-purr\")[x.adConfigPosition]||\"\"}return function(){var s,l,E=window.AdSlot4||{},n=window.performance&&window.performance.timing&&performance.timing.responseStart,r={},c=[],u=!1,p=!1,m=!0,t=!1,S=!1,w=j()===x.collapsed,z=!1;if(E.init)return E;function g(e){e&&n&&e.setTargeting(\"request_time\",(Date.now()-n).toString())}function h(e,n){window.googletag.cmd.push(function(){g(n),window.googletag.display(e)})}function T(e){if(R()||e)E.events.publish({name:\"AdEmpty\",value:{type:\"AdsDisabled\"}});else{var n,t,o,i,a,d=function(){var e=window.googletag;e?e.cmd.push(function(){e._loadStarted_?window.advBidxc&&!window.advBidxc.isAdServerLoaded&&(window.advBidxc.isAdServerLoaded=!0):E.events.publish({name:\"AdEmpty\",value:{type:\"AdBlockOn\"}})}):E.events.publish({name:\"AdEmpty\",value:{type:\"GptError\"}})};window.googletag&&window.googletag.apiReady?d():(n=\"https://securepubads.g.doubleclick.net/tag/js/gpt.js\",t=d,o=function(){E.events.publish({name:\"AdEmpty\",value:{type:\"GptError\"}})},i=document.getElementsByTagName(\"head\")[0],a=document.createElement(\"script\"),t&&(a.onload=t),o&&(a.onerror=o),a.src=n,a.async=!0,i.appendChild(a))}}function b(e,n,t){return window.googletag.defineSlot(e,n,t)}function i(e){var n,t,o,i=e.displayed,a=e.id,d=e.slot;(E.events.publish({name:\"AdCalled\",value:{id:a,timeCalled:O(a,\"timeCalled\",\"responseStart\")},scope:a}),u&&i)?(n=[d],t=p?null:{changeCorrelator:!1},(o=window.googletag).cmd.push(function(){n&&n.forEach(function(e){g(e)}),n&&t?o.pubads().refresh(n,t):n?o.pubads().refresh(n):t?o.pubads().refresh(null,t):o.pubads().refresh()}),p=!1):(h(a,d),r[a].displayed=!0)}function e(){c=c.filter(function(e){var n=e.AdSlotElement,t=A(n,m?E.props.offset:0,0,0,0,m);return t&&i(e),!t})}function a(t){var o=t.AdSlotElement,e={root:null,rootMargin:\"\".concat(E.props.offset,\"px\"),threshold:0},n=new IntersectionObserver(function(e,n){e[0].isIntersecting&&(i(t),n.unobserve(o))},e);return n.observe(o),n}function k(){window.IntersectionObserver?(t=!0,window.IntersectionObserver.prototype.POLL_INTERVAL=1e3):document.addEventListener(\"scroll\",function(o){var i=this,a=1<arguments.length&&void 0!==arguments[1]?arguments[1]:1e3,d=null;return function(){for(var e=arguments.length,n=new Array(e),t=0;t<e;t++)n[t]=arguments[t];null===d&&(d=setTimeout(function(){o.apply(i,n),d=null},a))}}(e,1e3))}function y(e){e.displayed||(t&&(e.observer=a(e)),c.push(e)),r[e.id]=e}function L(e){if(e.data.exclusive&&e.data.div){var n,t=e.data.div;switch(e.data.type){case\"only-child\":o={empty:(a=t,d=[],Object.keys(r).forEach(function(e){a!==e&&d.push(r[e])}),d)},(i=o&&o.empty||c).length&&i.forEach(function(e){e.observer&&e.observer.unobserve(e.AdSlotElement),E.events.publish({name:\"AdEmpty\",value:{type:e.id},scope:e.id})}),c=[],w=!0;break;case\"family-plan\":void 0!==(n=r[t]&&r[t].slot&&(r[t].slot.getResponseInformation()||{}).lineItemId)&&E.updateAdReq({adv:n,excl:\"family\"});break;case\"blank\":E.events.publish({name:\"AdEmpty\",value:{type:t},scope:e.data.div})}}var o,i,a,d}if(E.events=(s={},l={},{publish:function e(n){var t=n.name,o=void 0===t?\"\":t,i=n.value,a=void 0===i?{}:i,d=n.scope,r=void 0===d?\"page\":d;\"all\"!==r&&e({name:o,value:a,scope:\"all\"}),s[o]||(s[o]={}),s[o][r]||(s[o][r]=[]),s[o][r].push(a),l[o]&&l[o][r]&&l[o][r].forEach(function(e){e(a)})},subscribe:function(e){var n=e.name,t=void 0===n?\"\":n,o=e.callback,i=void 0===o?function(){}:o,a=e.scope,d=void 0===a?\"page\":a;l[t]||(l[t]={}),l[t][d]||(l[t][d]=[]);var r=l[t][d].push(i)-1;return s[t]&&s[t][d]&&s[t][d].length&&s[t][d].forEach(function(e){i(e)}),{remove:function(){return l[t][d].splice(r,1)}}},unsubscribeToAll:function(n){Object.keys(l).forEach(function(e){l[e]&&l[e][n]&&delete l[e][n]}),Object.keys(s).forEach(function(e){s[e]&&s[e][n]&&delete s[e][n]})}}),E.initializeAd=function(d,e){if(E.props){var n=E.props,t=n.adTargeting,r=n.adUnitPath,o=n.sizeMapping,i=n.hideTopAd,a=n.isSocrates,s=e.id,l=e.position,c=e.sizeKey,u=e.lazyLoad,p=e.truePosition,g=c||l,f=g in o?o[g]:o.default;if((\"top\"!==l||!i)&&s&&r&&f&&d&&d.classList&&!d.classList.contains(\"placed-ad\"))if(t&&t.gdprUser&&t.noTracking||R()||a)E.events.publish({name:\"AdEmpty\",value:{type:\"AdsDisabled\"}});else if(w)E.events.publish({name:\"AdEmpty\",value:{type:s},scope:s});else{var v=window.googletag;v.cmd.push(function(){var e;if(C()){var i=window.outerWidth,n=f.reduce(function(e,n){var t=Number.isInteger(n[0])?n[0]:null,o=e.prevVp;return t<i&&o<t&&(e.prevVp=t,e.sizes=n[1]),e},{prevVp:-1,sizes:[]});e=b(r,n.sizes,s)}else{e=b(r,[],s);var t=v.sizeMapping();f.forEach(function(e){t.addSize([e[0],0],e[1])}),e.defineSizeMapping(t.build())}var o=p||l;e.setTargeting(\"div\",s),e.setTargeting(\"pos\",o),e.setCollapseEmptyDiv(!0),e.addService(v.pubads());var a={id:s,slot:e,AdSlotElement:d,sizes:f};if(E.events.publish({name:\"AdDefined\",value:{id:s,sizes:f,truePosition:p,timeDefined:O(s,\"timeDefined\",\"responseStart\")},scope:s}),z)return h(s,e),a.displayed=!0,void y(a);u&&!A(d,0,0,0,0,m)||(E.events.publish({name:\"AdCalled\",value:{id:s,timeCalled:O(s,\"timeCalled\",\"responseStart\")},scope:s}),h(s,e),a.displayed=!0),y(a)})}}else E.events.subscribe({name:\"AdSlotReady\",callback:function(){return E.initializeAd(d,e)}})},E.fillPlacements=function(){var e=document.querySelectorAll(\".place-ad:not(.placed-ad)\");if(e)for(var n=0;n<e.length;n++){var t=e[n],o=t.id,i=t.dataset,a=i.position,d=i.sizeKey,r=\"false\"!==i.lazyLoad;o&&a&&(E.initializeAd(t,{id:o,position:a,sizeKey:d,lazyLoad:r}),t.classList.add(\"placed-ad\"))}},E.updateAdReq=function(n,t){window.googletag.cmd.push(function(){t&&r[t]?Object.keys(n).forEach(function(e){r[t].slot.setTargeting(e,\"\".concat(n[e]))}):Object.keys(n).forEach(function(e){window.googletag.pubads().setTargeting(e,\"\".concat(n[e]))})})},E.refreshAds=function(){m=!(p=u=!0),c=[],t?Object.keys(r).forEach(function(e){var n=r[e],t=n.observer,o=n.displayed,i=n.AdSlotElement;c.push(n),o&&(t&&t.unobserve(i),n.observer=a(n))}):(Object.keys(r).forEach(function(e){c.push(r[e])}),z?c.forEach(function(e){i(e)}):e()),setTimeout(function(){m=!0},2e3)},E.init=function(e){var n=e||{},t=n.adTargeting,i=void 0===t?{}:t,o=n.adUnitPath,a=void 0===o?\"\":o,d=n.offset,r=void 0===d?400:d,s=n.haltDFP,l=void 0!==s&&s,c=n.lockdownAds,u=void 0!==c&&c,p=n.hideTopAd,g=void 0!==p&&p,f=n.sizeMapping,v=void 0===f?{}:f,m=n.lazyApi,w=void 0===m?{}:m,h=\"s\"===I(\"nyt-purr\").substring(1,2),b=l||h;if(!S){i.vp=window.matchMedia(\"(min-width: 970px)\").matches?\"large\":window.matchMedia(\"(min-width: 728px)\").matches?\"medium\":\"small\",i.aid=I(\"nyt-a\")||null;var y=P(\"ad-keywords\");y&&(i.adv=y);var A=P(\"debugads\");A&&(i.debugAdsQP=A),\"1\"===I(\"nyt-gdpr\")&&(i.gdprUser=!0),\"out\"===I(\"NYT-T\").toLowerCase()&&(i.noTracking=!0),E.props={adTargeting:i,adUnitPath:a,offset:r,sizeMapping:v,hideTopAd:g,isSocrates:h,lazyApi:w},window.googletag=window.googletag||{},window.googletag.cmd=window.googletag.cmd||[],window.googletag.cmd.push(function(){var t,n,e,o=(t=i,n=window.googletag.pubads().getTargetingKeys(),Object.keys(t).filter(function(e){return n.indexOf(e)<0}).reduce(function(e,n){return e[n]=t[n],e},{}));Object.keys(o).forEach(function(e){window.googletag.pubads().setTargeting(e,o[e])}),(i.gdprUser||j()===x.nonPersonalized)&&window.googletag.pubads().setRequestNonPersonalizedAds(1),w.fetch&&w.render?(z=!0,e=w,window.googletag.cmd.push(function(){window.googletag.pubads().enableLazyLoad({fetchMarginPercent:e.fetch,renderMarginPercent:e.render}),window.googletag.enableServices()})):(window.googletag.enableServices(),k()),E.fillPlacements(),window.googletag.pubads().addEventListener(\"slotRenderEnded\",function(e){var n=e.slot.getSlotElementId();e.timeRendered=O(n,\"timeRendered\",\"\".concat(n,\"-timeCalled\")),e.isEmpty?E.events.publish({name:\"AdEmpty\",value:{type:n},scope:n}):E.events.publish({name:\"AdRendered\",value:e,scope:n})}),window.googletag.pubads().addEventListener(\"slotOnload\",function(e){var n=e.slot.getSlotElementId();e.timeLoaded=O(n,\"timeLoaded\",\"\".concat(n,\"-timeCalled\")),E.events.publish({name:\"AdLoaded\",value:e,scope:n})}),window.googletag.pubads().addEventListener(\"impressionViewable\",function(e){var n=e.slot.getSlotElementId();e.timeViewed=O(n,\"timeViewed\",\"\".concat(n,\"-timeCalled\")),E.events.publish({name:\"AdViewable\",value:e,scope:n})})}),u?window.googletag.cmd.push(function(){window.googletag.pubads().setForceSafeFrame(!0)}):window.addEventListener(\"message\",function(e){(e.origin.match(/tpc.googlesyndication.com$/)||e.origin===window.location.origin)&&L(e)},!1),T(b),E.events.publish({name:\"AdSlotReady\"}),S=!0}},E.cmd)for(;E.cmd.length;)E.cmd.shift()();return E.cmd={length:0,push:function(e){e()}},window.AdSlot4=E}()}();var AdSlot4=function(){\"use strict\";function _(n,i,o){var t=document.getElementsByTagName(\"head\")[0],e=document.createElement(\"script\");i&&(e.onload=i),o&&(e.onerror=o),e.src=n,e.async=!0,t.appendChild(e)}function E(n){var i=document.cookie.match(new RegExp(\"\".concat(n,\"=([^;]+)\")));return i?i[1]:\"\"}var n={adConfigPosition:1,nonPersonalized:\"n\",collapsed:\"c\",full:\"f\",socrates:\"s\"};function S(){return(E(\"nyt-purr\")[n.adConfigPosition]||\"\")===n.full}var d=[{id:\"dfp-ad-top\",sizes:{large:[[728,90],[970,90],[970,250]],medium:[[728,90],[300,250]],small:[[300,250],[300,420]]}},{id:\"top\",sizes:{large:[[728,90],[970,90],[970,250]],medium:[[728,90],[300,250]],small:[[300,250],[300,420]]}}];return function(){var z=window.AdSlot4||{};z.cmd=z.cmd||[];var b=!1;if(z.loadScripts)return z;var o,e=window.innerWidth;function a(t){z.events.subscribe({name:\"AdDefined\",scope:\"all\",callback:function(n){var o,i=[-1];n.sizes.forEach(function(n){n[0]<e&&n[0]>i[0]&&(i=[n])}),i[0][1]&&window.apstag.fetchBids({slots:[{slotID:n.truePosition||n.id,slotName:\"\".concat(n.id,\"_\").concat(t,\"_web\"),sizes:(o=i[0][1],Array.isArray(o)?[[300,250],[728,90],[970,90],[970,250]].filter(function(i){return o.some(function(n){return n[0]===i[0]&&n[1]===i[1]})}):(console.warn(\"filterSizes() did not receive an array\"),[]))}]},function(){window.googletag.cmd.push(function(){window.apstag.setDisplayBids()})})}})}function D(n,i){\"art, oak\"!==n&&\"art,oak\"!==n||(n=\"art\"),z.cmd.push(function(){var t,e;i&&window.apstag.fetchBids({slots:(t=o,e=n,d.reduce(function(n,i){var o={slotID:i.id,slotName:\"\".concat(i,\"_\").concat(e,\"_web\"),sizes:i.sizes[t]};return n.push(o),n},[]))},function(){window.googletag.cmd.push(function(){window.apstag.setDisplayBids()})}),a(n)})}return e<=600?o=\"small\":e<=740?o=\"medium\":740<e&&(o=\"large\"),z.loadScripts=function(n){var i,o,t,e,a,d,s,c=n||{},r=c.loadMnet,u=void 0===r||r,l=c.loadAmazon,w=void 0===l||l,p=c.setFastFetch,f=void 0!==p&&p,m=c.loadBait,g=void 0===m||m,v=c.section,h=void 0===v?\"none\":v,y=c.pageViewId,B=void 0===y?\"\":y,x=c.pageType,A=void 0===x?\"\":x;b||(\"1\"!==E(\"nyt-gdpr\")&&(i=document.referrer||\"\",!((o=/([a-zA-Z0-9_\\-.]+)(@|%40)([a-zA-Z0-9_\\-.]+).([a-zA-Z]{2,5})/).test(i)||o.test(window.location.href)))&&S()&&(!u||window.advBidxc&&window.advBidxc.isLoaded||(d=B,s=\"8CU2553YN\",window.innerWidth<740&&(s=\"8CULO58R6\"),_(\"https://contextual.media.net/bidexchange.js?cid=\".concat(s,\"&dn=\").concat(\"www.nytimes.com\",\"&https=1\"),function(){window.advBidxc&&window.advBidxc.isLoaded||console.warn(\"Media.net not loading properly\")},function(){z.cmd.push(function(){z.events.publish({name:\"BidderError\",value:{type:\"Mnet\"}})})}),window.advBidxc=window.advBidxc||{},window.advBidxc.renderAd=function(){},window.advBidxc.startTime=(new Date).getTime(),window.advBidxc.customerId={mediaNetCID:s},window.advBidxc.misc={isGptDisabled:1},d&&(window.advBidxc.misc.keywords=d)),w&&!window.apstag&&(t=h,e=A,a=f,function(o,t){function n(n,i){t[o]._Q.push([n,i])}t[o]||(t[o]={init:function(){n(\"i\",arguments)},fetchBids:function(){n(\"f\",arguments)},setDisplayBids:function(){},targetingKeys:function(){return[]},_Q:[]})}(\"apstag\",window),_(\"//c.amazon-adsystem.com/aax2/apstag.js\",function(){window.apstag||console.warn(\"A9 not loading properly\")},function(){z.cmd.push(function(){z.events.publish({name:\"BidderError\",value:{type:\"A9\"}})})}),window.apstag.init({pubID:\"3030\",adServer:\"googletag\",params:{si_section:t}}),D(e,a))),g&&_(\"https://nytimes.com/ads/google/adsbygoogle.js\",function(){},function(){z.cmd.push(function(){z.events.publish({name:\"AdEmpty\",value:{type:\"AdBlockOn\"}})})}),b=!0)},window.AdSlot4=z}()}();</script></body></html>)"
      ]
     },
     "execution_count": 53,
     "metadata": {},
     "output_type": "execute_result"
    }
   ],
   "source": [
    "type(soup),soup"
   ]
  },
  {
   "cell_type": "code",
   "execution_count": 60,
   "metadata": {},
   "outputs": [
    {
     "name": "stdout",
     "output_type": "stream",
     "text": [
      "<!DOCTYPE html>\n",
      "<html>\n",
      " <head>\n",
      "  <title>\n",
      "   Spelling Bee - The New York Times\n",
      "  </title>\n",
      "  <meta content=\"width=device-width, initial-scale=1, minimal-ui\" name=\"viewport\"/>\n",
      "  <meta charset=\"utf-8\" content=\"text/html\" http-equiv=\"Content-Type\"/>\n",
      "  <meta content=\"IE=edge,chrome=1\" http-equiv=\"X-UA-Compatible\"/>\n",
      "  <meta content=\"v6.1.6\" name=\"version\"/>\n",
      "  <meta content=\"Crosswords/Games\" name=\"CG\"/>\n",
      "  <meta content=\"spelling bee\" name=\"PT\"/>\n",
      "  <link href=\"/games-assets/v2/metadata/sb-web-manifest.json?v=v6.1.6\" rel=\"manifest\"/>\n",
      "  <link href=\"/games-assets/v2/metadata/sb-apple-touch-icon.png?v=v6.1.6\" rel=\"apple-touch-icon\" sizes=\"180x180\"/>\n",
      "  <link color=\"#f7cc32\" href=\"/games-assets/v2/metadata/sb-safari-pinned-tab.svg?v=v6.1.6\" rel=\"mask-icon\"/>\n",
      "  <link href=\"/games-assets/v2/metadata/sb-favicon.ico?v=v6.1.6\" rel=\"shortcut icon\"/>\n",
      "  <meta content=\"Spelling Bee\" name=\"apple-mobile-web-app-title\"/>\n",
      "  <meta content=\"Spelling Bee\" name=\"application-name\"/>\n",
      "  <meta content=\"#f7cc32\" name=\"msapplication-TileColor\"/>\n",
      "  <meta content=\"#f7cc32\" name=\"theme-color\"/>\n",
      "  <meta content=\"The New York Times Spelling Bee\" property=\"og:title\"/>\n",
      "  <meta content=\"https://www.nytimes.com/puzzles/spelling-bee\" property=\"og:url\"/>\n",
      "  <meta content=\"Play the daily spelling bee\" property=\"og:description\"/>\n",
      "  <meta content=\"https://static01.nyt.com/packages/other/crossword/fb-og/purple.png\" property=\"og:image\"/>\n",
      "  <style id=\"responsive.css\">\n",
      "   #ratio-hook,#width-hook{position:absolute;top:-100em;-webkit-transition:width 0.001ms;transition:width 0.001ms}@media (max-width: 443.98px){#width-hook{width:0px}}@media (min-width: 444px) and (max-width: 767.98px){#width-hook{width:1px}}@media (min-width: 768px) and (max-width: 991.98px){#width-hook{width:2px}}@media (min-width: 992px) and (max-width: 1199.98px){#width-hook{width:3px}}@media (min-width: 1200px){#width-hook{width:4px}}@media (orientation: portrait){#ratio-hook{width:0px}}@media (orientation: landscape){#ratio-hook{width:1px}}\n",
      "  </style>\n",
      "  <link href=\"/games-assets/v2/foundation.a377e934b72cdb0ab64106e4b4b0eadd.css\" rel=\"stylesheet\" type=\"text/css\"/>\n",
      "  <link href=\"/games-assets/v2/foundation-game.447f7f523348fef48c8d0f567fb26435.css\" rel=\"stylesheet\" type=\"text/css\"/>\n",
      "  <link href=\"/games-assets/v2/spelling-bee.6118f782514c790c0cde6f877033b960.css\" rel=\"stylesheet\" type=\"text/css\"/>\n",
      " </head>\n",
      " <body class=\"pz-page pz-desktop pz-use-intercept\">\n",
      "  <header class=\"pz-header pz-game-header\">\n",
      "   <nav class=\"pz-nav pz-flex-row\" id=\"js-global-nav\">\n",
      "    <div class=\"pz-nav__hamburger-helper pz-nav__hamburger pz-nav__hamburger-squeeze\" id=\"js-nav-burger\">\n",
      "     <span class=\"pz-nav__hamburger-box\">\n",
      "      <span class=\"pz-nav__hamburger-inner\">\n",
      "      </span>\n",
      "     </span>\n",
      "    </div>\n",
      "    <a aria-label=\"New York Times Games Logo. Click for more puzzles\" class=\"pz-nav__title pz-h1\" href=\"/crosswords\">\n",
      "     <svg class=\"pz-nav__logo\" fill=\"none\" height=\"21\" viewbox=\"0 0 160 21\" width=\"160\" xmlns=\"http://www.w3.org/2000/svg\">\n",
      "      <path d=\"M20.8694 1.66095H20.3694V19.814H20.8694V1.66095Z\" fill=\"black\">\n",
      "      </path>\n",
      "      <path d=\"M15.4617 12.9011C14.8285 14.5897 13.6148 15.9617 11.9261 16.6478V12.9011L13.9842 11.0541L11.9261 9.25989V6.67414C13.7731 6.5686 15.0923 5.1438 15.0923 3.50792C15.0923 1.29156 12.9815 0.5 11.8206 0.5C11.5567 0.5 11.2929 0.5 10.8707 0.605541V0.711082C11.029 0.711082 11.2401 0.711082 11.3456 0.711082C12.19 0.711082 12.8232 1.08047 12.8232 1.87203C12.8232 2.45251 12.3483 3.03298 11.504 3.03298C9.44591 3.03298 7.01847 1.3971 4.43272 1.3971C2.11082 1.3971 0.474934 3.13852 0.474934 4.87995C0.474934 6.62137 1.47757 7.20185 2.53298 7.57124V7.4657C2.21636 7.25462 1.95251 6.88522 1.95251 6.30475C1.95251 5.51319 2.69129 4.87995 3.58839 4.87995C5.80475 4.87995 9.34037 6.72691 11.5567 6.72691H11.7678V9.31266L9.70976 11.0541L11.7678 12.9011V16.7005C10.9235 17.0171 10.0264 17.1227 9.12929 17.1227C5.69921 17.1227 3.53562 15.0646 3.53562 11.5818C3.53562 10.7375 3.64116 9.94591 3.85224 9.15435L5.5409 8.41557V16.0673L9.02375 14.5369V6.72691L3.90501 8.99604C4.43272 7.4657 5.48813 6.41029 6.75462 5.77704V5.72427C3.32454 6.46306 0 9.04881 0 12.9538C0 17.4393 3.79947 20.5528 8.17942 20.5528C12.876 20.5528 15.5145 17.4393 15.5145 12.9011H15.4617Z\" fill=\"black\">\n",
      "      </path>\n",
      "      <path d=\"M41.7942 18.7058C39.5251 19.814 37.9947 20.1306 35.62 20.1306C29.8153 20.1306 25.8575 16.1728 25.8575 10.2097C25.8575 7.30736 26.7546 4.98546 28.3905 3.45512C29.8681 2.08309 31.9789 1.3443 34.1425 1.3443C35.62 1.3443 36.781 1.60815 38.0475 2.29417V1.66092H41.7414V8.62662H38.0475C37.8364 6.5158 37.0448 5.51316 35.6728 5.51316C33.9314 5.51316 32.7177 7.36013 32.7177 9.94588C32.7177 11.3707 33.0871 12.4789 33.7731 13.4287C34.6174 14.6425 36.095 15.3285 37.5726 15.3285C38.7863 15.3285 39.7361 15.0118 41.7942 13.7454V18.7058Z\" fill=\"black\">\n",
      "      </path>\n",
      "      <path d=\"M54.7229 11.4235C53.2981 11.4235 52.6649 11.4235 51.9789 11.6345C51.1873 11.7929 50.6068 12.2678 50.2375 12.8483C50.0264 13.2704 49.9208 13.7981 49.9208 15.2229V16.4894H51.2929V19.8667H43.0079V16.4894H44.0633V10.7374H43.0079V7.36014H49.8681V9.25988C50.9762 8.04616 52.2427 7.04352 53.9314 7.04352C54.1425 7.04352 54.4063 7.04352 54.6702 7.04352V11.4235H54.7229Z\" fill=\"black\">\n",
      "      </path>\n",
      "      <path d=\"M62.4274 20.0778C58.5752 20.0778 54.8813 17.8087 54.8813 13.6398C54.8813 9.41818 58.4696 7.14905 62.3747 7.14905C66.3324 7.14905 69.8681 9.41818 69.8681 13.6398C69.8681 17.8614 66.2797 20.0778 62.4274 20.0778ZM62.3219 10.4736C60.9499 10.4736 60.7388 12.2678 60.7388 13.3232C60.7388 14.3786 60.8443 16.5422 62.3219 16.5422C63.7995 16.5422 64.0105 14.8008 64.0105 13.6926C64.0105 12.5316 63.9578 10.4736 62.3219 10.4736Z\" fill=\"black\">\n",
      "      </path>\n",
      "      <path d=\"M77.467 20.0778C76.2005 20.0778 75.2507 19.8667 73.4565 19.1807V19.814H70.6596V15.6979H73.4037C73.7203 16.806 74.1952 17.3337 75.2507 17.3337C76.0422 17.3337 76.5171 17.0171 76.5171 16.3839C76.5171 15.9617 76.2533 15.5923 75.6728 15.3812L72.9815 14.2203C71.6095 13.6398 70.8707 12.4261 70.8707 11.1068C70.8707 8.99601 72.9815 7.14905 75.62 7.14905C76.7282 7.14905 77.6253 7.36013 78.839 7.9406V7.4129H81.6359V11.3707H79.0501C78.839 10.1042 78.3641 9.47095 77.4142 9.47095C76.7282 9.47095 76.2005 9.89311 76.2005 10.4208C76.2005 10.8957 76.5171 11.2651 77.1504 11.529L79.7889 12.5844C81.5303 13.2704 82.3219 14.3786 82.3219 15.8562C82.4274 18.2308 80.3694 20.0778 77.467 20.0778Z\" fill=\"black\">\n",
      "      </path>\n",
      "      <path d=\"M89.8681 20.0778C88.6016 20.0778 87.6517 19.8667 85.8575 19.1807V19.814H83.0607V15.6979H85.8047C86.1214 16.806 86.5963 17.3337 87.6517 17.3337C88.4433 17.3337 88.9182 17.0171 88.9182 16.3839C88.9182 15.9617 88.6543 15.5923 88.0739 15.3812L85.3826 14.2203C84.0105 13.6398 83.2718 12.4261 83.2718 11.1068C83.2718 8.99601 85.3826 7.14905 88.0211 7.14905C89.1293 7.14905 90.0264 7.36013 91.2401 7.9406V7.4129H94.0369V11.3707H91.4512C91.2401 10.1042 90.7652 9.47095 89.8153 9.47095C89.1293 9.47095 88.6016 9.89311 88.6016 10.4208C88.6016 10.8957 88.9182 11.2651 89.5514 11.529L92.19 12.5844C93.9314 13.2704 94.7229 14.3786 94.7229 15.8562C94.7757 18.2308 92.7704 20.0778 89.8681 20.0778Z\" fill=\"black\">\n",
      "      </path>\n",
      "      <path d=\"M115.62 10.7375H115.145L112.296 19.7612H107.441L105.435 13.9037L103.061 19.7612H98.3641L96.095 10.7375H95.3034V7.36017H102.322V10.7375H101.425L102.005 14.4842H102.058L104.802 7.36017H108.39L110.501 14.4842H110.554L111.662 10.7375H110.923V7.36017H115.62V10.7375Z\" fill=\"black\">\n",
      "      </path>\n",
      "      <path d=\"M123.325 20.0778C119.472 20.0778 115.778 17.8087 115.778 13.6398C115.778 9.41818 119.367 7.14905 123.272 7.14905C127.23 7.14905 130.765 9.41818 130.765 13.6398C130.765 17.8614 127.177 20.0778 123.325 20.0778ZM123.219 10.4736C121.847 10.4736 121.636 12.2678 121.636 13.3232C121.636 14.3786 121.741 16.5422 123.219 16.5422C124.697 16.5422 124.908 14.8008 124.908 13.6926C124.908 12.5316 124.855 10.4736 123.219 10.4736Z\" fill=\"black\">\n",
      "      </path>\n",
      "      <path d=\"M143.377 11.4235C141.953 11.4235 141.319 11.4235 140.633 11.6345C139.842 11.7929 139.261 12.2678 138.892 12.8483C138.681 13.2704 138.575 13.7981 138.575 15.2229V16.4894H139.947V19.8667H131.662V16.4894H132.718V10.7374H131.662V7.36014H138.522V9.25988C139.631 8.04616 140.897 7.04352 142.586 7.04352C142.797 7.04352 143.061 7.04352 143.325 7.04352V11.4235H143.377Z\" fill=\"black\">\n",
      "      </path>\n",
      "      <path d=\"M159.947 19.814H153.034V18.653C151.768 19.4974 150.765 20.0251 149.182 20.0251C145.541 20.0251 143.799 16.7533 143.799 13.4815C143.799 10.1042 145.752 7.09631 149.393 7.09631C150.818 7.09631 151.926 7.51847 153.034 8.3628V5.03826H151.662V1.66095H158.892V16.4367H160V19.814H159.947ZM151.398 10.4736C149.921 10.4736 149.604 12.3734 149.604 13.4815C149.604 14.6425 149.71 16.5422 151.293 16.5422C152.823 16.5422 153.087 14.5369 153.087 13.376C153.14 12.3206 152.77 10.4736 151.398 10.4736Z\" fill=\"black\">\n",
      "      </path>\n",
      "     </svg>\n",
      "    </a>\n",
      "    <div class=\"pz-nav__toolbar\" id=\"js-mobile-toolbar\">\n",
      "    </div>\n",
      "    <div class=\"pz-nav__actions pz-flex-row\">\n",
      "     <a class=\"pz-nav__link\" href=\"/crosswords/archive\">\n",
      "      Archive\n",
      "     </a>\n",
      "     <a class=\"pz-nav__link\" href=\"/puzzles/stats\">\n",
      "      Statistics\n",
      "     </a>\n",
      "     <a class=\"pz-nav__link\" href=\"/puzzles/leaderboards\">\n",
      "      <span>\n",
      "       Leaderboards\n",
      "      </span>\n",
      "     </a>\n",
      "     <a class=\"pz-nav__link subscribe blue\" href=\"/subscription/games/lp897H9.html?campaignId=4QHQ8\">\n",
      "      Subscribe\n",
      "     </a>\n",
      "     <div class=\"pz-nav__profile\" id=\"js-profile-nav\">\n",
      "      <div class=\"pz-nav__login hidden\">\n",
      "       <a class=\"pz-nav__square-button\" href=\"https://myaccount.nytimes.com/auth/login?redirect_uri=https%3A%2F%2Fwww.nytimes.com%2Fpuzzles%2Fspelling-bee%3FcampaignId%3D4YLLF%26gclid%3DCjwKCAjwguzzBRBiEiwAgU0FTxGdznKnSQ-fEFI9WXpNFkBS0P7XVpbrSfgyESobdHCn1jQP4Cao-RoCdIIQAvD_BwE%26gclsrc%3Daw.ds&amp;response_type=cookie&amp;client_id=games&amp;application=crosswords&amp;asset=navigation-bar\">\n",
      "        Log in\n",
      "       </a>\n",
      "      </div>\n",
      "      <div class=\"pz-nav__logout hidden\">\n",
      "       <div class=\"pz-nav__dropdown\">\n",
      "        <div class=\"pz-nav__square-button dropdown\" id=\"js-nav-dropdown-button\">\n",
      "         <span id=\"js-username-nav\">\n",
      "          My Account\n",
      "         </span>\n",
      "         <div class=\"pz-nav__caret\">\n",
      "         </div>\n",
      "        </div>\n",
      "        <div class=\"hidden pz-nav__dropdown__menu\" id=\"js-nav-dropdown-menu\">\n",
      "         <a href=\"https://myaccount.nytimes.com/mem/manage_billing.html\">\n",
      "          Account &amp; Billing\n",
      "         </a>\n",
      "         <a class=\"blue\" href=\"https://myaccount.nytimes.com/gst/signout?URI=https%3A%2F%2Fwww.nytimes.com%2Fpuzzles%2Fspelling-bee%3FcampaignId%3D4YLLF%26gclid%3DCjwKCAjwguzzBRBiEiwAgU0FTxGdznKnSQ-fEFI9WXpNFkBS0P7XVpbrSfgyESobdHCn1jQP4Cao-RoCdIIQAvD_BwE%26gclsrc%3Daw.ds\">\n",
      "          Log Out\n",
      "         </a>\n",
      "        </div>\n",
      "       </div>\n",
      "      </div>\n",
      "     </div>\n",
      "    </div>\n",
      "   </nav>\n",
      "   <div class=\"pz-nav-drawer\" id=\"js-nav-drawer\">\n",
      "    <a class=\"pz-nav-drawer__link\" href=\"/crosswords\">\n",
      "     Home\n",
      "    </a>\n",
      "    <a class=\"pz-nav-drawer__link\" href=\"/crosswords/archive\">\n",
      "     Archive\n",
      "    </a>\n",
      "    <a class=\"pz-nav-drawer__link\" href=\"/puzzles/stats\">\n",
      "     Statistics\n",
      "    </a>\n",
      "    <a class=\"pz-nav-drawer__link\" href=\"/puzzles/leaderboards\">\n",
      "     Leaderboards\n",
      "    </a>\n",
      "    <a class=\"pz-nav-drawer__link blue\" href=\"/subscription/games/lp897H9.html?campaignId=4QHQ8\">\n",
      "     Subscribe\n",
      "    </a>\n",
      "    <div class=\"pz-nav__login hidden\">\n",
      "     <div class=\"pz-nav-drawer__account-info\">\n",
      "      <hr/>\n",
      "      <a class=\"pz-nav__square-button\" href=\"https://myaccount.nytimes.com/auth/login?redirect_uri=https%3A%2F%2Fwww.nytimes.com%2Fpuzzles%2Fspelling-bee%3FcampaignId%3D4YLLF%26gclid%3DCjwKCAjwguzzBRBiEiwAgU0FTxGdznKnSQ-fEFI9WXpNFkBS0P7XVpbrSfgyESobdHCn1jQP4Cao-RoCdIIQAvD_BwE%26gclsrc%3Daw.ds&amp;response_type=cookie&amp;client_id=games&amp;application=crosswords&amp;asset=navigation-drawer\">\n",
      "       Login\n",
      "      </a>\n",
      "      <a class=\"pz-nav__square-button black\" href=\"https://myaccount.nytimes.com/register?redirect_uri=https%3A%2F%2Fwww.nytimes.com%2Fpuzzles%2Fspelling-bee%3FcampaignId%3D4YLLF%26gclid%3DCjwKCAjwguzzBRBiEiwAgU0FTxGdznKnSQ-fEFI9WXpNFkBS0P7XVpbrSfgyESobdHCn1jQP4Cao-RoCdIIQAvD_BwE%26gclsrc%3Daw.ds&amp;response_type=cookie&amp;client_id=games&amp;application=crosswords&amp;asset=navigation-drawer\">\n",
      "       Create Account\n",
      "      </a>\n",
      "     </div>\n",
      "    </div>\n",
      "    <div class=\"pz-nav__logout hidden\">\n",
      "     <div class=\"pz-nav-drawer__account-info\">\n",
      "      <hr/>\n",
      "      <a class=\"pz-nav__square-button black\" href=\"https://myaccount.nytimes.com/gst/signout?URI=https%3A%2F%2Fwww.nytimes.com%2Fpuzzles%2Fspelling-bee%3FcampaignId%3D4YLLF%26gclid%3DCjwKCAjwguzzBRBiEiwAgU0FTxGdznKnSQ-fEFI9WXpNFkBS0P7XVpbrSfgyESobdHCn1jQP4Cao-RoCdIIQAvD_BwE%26gclsrc%3Daw.ds\">\n",
      "       Log Out\n",
      "      </a>\n",
      "     </div>\n",
      "    </div>\n",
      "    <a class=\"pz-nav-drawer__link small\" href=\"https://nytimes.com/\">\n",
      "     NYTimes.com\n",
      "    </a>\n",
      "    <a class=\"pz-nav-drawer__link minor ccpa-opt-out\" data-region=\"menu\" href=\"#ccpa-hamburger\" id=\"ccpa-hamburger\">\n",
      "     Do Not Sell My Personal Information\n",
      "    </a>\n",
      "   </div>\n",
      "  </header>\n",
      "  <div class=\"pz-intercept\">\n",
      "  </div>\n",
      "  <div class=\"pz-content\">\n",
      "   <div class=\"pz-section pz-section-filled pz-ad-box\">\n",
      "    <div class=\"pz-ad place-ad\" data-position=\"top\" id=\"TopAd\">\n",
      "    </div>\n",
      "   </div>\n",
      "   <div class=\"pz-section\" id=\"spelling-bee-container\">\n",
      "    <div class=\"pz-row pz-game-title-bar\">\n",
      "     <div class=\"pz-module\">\n",
      "      <h2>\n",
      "       <em class=\"pz-game-title\">\n",
      "        Spelling Bee\n",
      "       </em>\n",
      "       <span class=\"pz-game-date\">\n",
      "        March 25, 2020\n",
      "       </span>\n",
      "      </h2>\n",
      "      <div class=\"pz-byline\">\n",
      "       <span class=\"pz-byline__text\">\n",
      "        Edited by Sam Ezersky\n",
      "       </span>\n",
      "      </div>\n",
      "     </div>\n",
      "    </div>\n",
      "    <div class=\"pz-game-screen\">\n",
      "     <div class=\"pz-game-toolbar\">\n",
      "      <div class=\"pz-row\">\n",
      "       <div class=\"pz-module pz-flex-row pz-game-toolbar-content\" id=\"portal-game-toolbar\">\n",
      "       </div>\n",
      "      </div>\n",
      "     </div>\n",
      "     <div class=\"pz-game-field\" id=\"pz-game-root\">\n",
      "      <noscript>\n",
      "       This game requires javascript\n",
      "      </noscript>\n",
      "     </div>\n",
      "     <div id=\"portal-game-modals\">\n",
      "     </div>\n",
      "     <script type=\"text/javascript\">\n",
      "      window.gameData = {\"today\":{\"expiration\":1585206000,\"displayWeekday\":\"Wednesday\",\"displayDate\":\"March 25, 2020\",\"printDate\":\"2020-03-25\",\"centerLetter\":\"o\",\"outerLetters\":[\"a\",\"b\",\"d\",\"j\",\"m\",\"r\"],\"validLetters\":[\"o\",\"a\",\"b\",\"d\",\"j\",\"m\",\"r\"],\"pangrams\":[\"doorjamb\"],\"answers\":[\"doorjamb\",\"aboard\",\"abroad\",\"adobo\",\"ammo\",\"arbor\",\"ardor\",\"armor\",\"aroma\",\"bamboo\",\"baobab\",\"barroom\",\"boar\",\"board\",\"boardroom\",\"boba\",\"bomb\",\"bombard\",\"boob\",\"booboo\",\"boom\",\"boor\",\"broad\",\"brood\",\"broom\",\"dodo\",\"dojo\",\"doodad\",\"doom\",\"door\",\"dorm\",\"jojoba\",\"major\",\"majordomo\",\"mambo\",\"marjoram\",\"mojo\",\"momma\",\"mood\",\"moor\",\"odor\",\"ramrod\",\"road\",\"roam\",\"roar\",\"rood\",\"room\"],\"id\":690,\"freeExpiration\":0,\"editor\":\"Sam Ezersky\"},\"yesterday\":{\"displayWeekday\":\"Tuesday\",\"displayDate\":\"March 24, 2020\",\"printDate\":\"2020-03-24\",\"centerLetter\":\"i\",\"outerLetters\":[\"a\",\"d\",\"l\",\"n\",\"t\",\"w\"],\"validLetters\":[\"i\",\"a\",\"d\",\"l\",\"n\",\"t\",\"w\"],\"pangrams\":[\"tailwind\"],\"answers\":[\"tailwind\",\"alit\",\"anti\",\"atilt\",\"attain\",\"attaint\",\"await\",\"dial\",\"dill\",\"dint\",\"iliad\",\"initial\",\"inlaid\",\"inland\",\"laid\",\"lain\",\"lanai\",\"lilt\",\"lint\",\"naiad\",\"nail\",\"nitwit\",\"tail\",\"taint\",\"tali\",\"tannin\",\"tidal\",\"till\",\"tilt\",\"tint\",\"titan\",\"twain\",\"twilit\",\"twill\",\"twin\",\"twit\",\"wail\",\"wait\",\"wild\",\"will\",\"wilt\",\"wind\"],\"id\":9021,\"freeExpiration\":0,\"editor\":\"Sam Ezersky\"}}\n",
      "     </script>\n",
      "    </div>\n",
      "   </div>\n",
      "   <div class=\"pz-section pz-section-filled pz-ad-box\">\n",
      "    <div class=\"pz-ad place-ad\" data-position=\"bottom\" id=\"TopAd1\">\n",
      "    </div>\n",
      "   </div>\n",
      "  </div>\n",
      "  <footer class=\"pz-footer\">\n",
      "   <div class=\"pz-footer__branding pz-flex-row\">\n",
      "    <a href=\"https://nytimes.com/\">\n",
      "     <i class=\"pz-footer__times-icon\">\n",
      "     </i>\n",
      "    </a>\n",
      "    <a href=\"http://spiderbites.nytimes.com/\">\n",
      "     Sitemap\n",
      "    </a>\n",
      "   </div>\n",
      "   <div class=\"pz-footer__navigation\">\n",
      "    <div class=\"pz-footer__link-col\">\n",
      "     <h4>\n",
      "      The Crossword\n",
      "     </h4>\n",
      "     <a href=\"/crosswords\">\n",
      "      Home\n",
      "     </a>\n",
      "     <a href=\"/crosswords/archive\">\n",
      "      Archive\n",
      "     </a>\n",
      "     <a href=\"/puzzles/stats\">\n",
      "      Statistics\n",
      "     </a>\n",
      "     <a href=\"/crosswords/apps\">\n",
      "      Download Our App\n",
      "     </a>\n",
      "    </div>\n",
      "    <div class=\"pz-footer__link-col\">\n",
      "     <h4>\n",
      "      Support\n",
      "     </h4>\n",
      "     <a href=\"/content/help/games/crosswords/crosswords.html\">\n",
      "      FAQs\n",
      "     </a>\n",
      "     <a href=\"mailto:NYTCrossword@nytimes.com\" id=\"js-feedback-link\" rel=\"external\" target=\"__blank\">\n",
      "      Send Feedback\n",
      "     </a>\n",
      "     <a href=\"/subscription/games/lp897H9.html?campaignId=4QHQ8\">\n",
      "      Subscriptions\n",
      "     </a>\n",
      "     <a href=\"https://www.nytimes.com/subscription/games/lp3HLK7.html\">\n",
      "      Give a Subscription\n",
      "     </a>\n",
      "    </div>\n",
      "    <div class=\"pz-footer__link-col\">\n",
      "     <h4>\n",
      "      Community\n",
      "     </h4>\n",
      "     <a href=\"/column/wordplay\">\n",
      "      Wordplay\n",
      "     </a>\n",
      "     <a href=\"https://twitter.com/NYTimesWordplay\">\n",
      "      Twitter\n",
      "     </a>\n",
      "     <a href=\"/puzzles/submissions/crossword\">\n",
      "      Submission Guidelines\n",
      "     </a>\n",
      "    </div>\n",
      "    <div class=\"pz-footer__link-col\">\n",
      "     <h4>\n",
      "      Other Puzzles\n",
      "     </h4>\n",
      "     <a href=\"/puzzles/kenken\">\n",
      "      KenKen®\n",
      "     </a>\n",
      "     <a href=\"/puzzles/set\">\n",
      "      Set®\n",
      "     </a>\n",
      "     <a href=\"/puzzles/sudoku\">\n",
      "      Sudoku\n",
      "     </a>\n",
      "    </div>\n",
      "   </div>\n",
      "   <div class=\"pz-footer__legal pz-flex-row\">\n",
      "    <a href=\"https://www.nytco.com/\">\n",
      "     © The New York Times Company\n",
      "    </a>\n",
      "    <div class=\"pz-footer__legal-links\">\n",
      "     <a href=\"/content/help/rights/privacy/policy/privacy-policy.html#pp\">\n",
      "      Your Ad Choices\n",
      "     </a>\n",
      "     <a href=\"/privacy\">\n",
      "      Privacy Policy\n",
      "     </a>\n",
      "     <a href=\"/content/help/rights/terms/terms-of-service.html\">\n",
      "      Terms of Service\n",
      "     </a>\n",
      "     <a class=\"ccpa-opt-out\" data-region=\"footer\" href=\"#ccpa-footer\" id=\"ccpa-footer\">\n",
      "      Do Not Sell My Personal Information\n",
      "     </a>\n",
      "    </div>\n",
      "   </div>\n",
      "  </footer>\n",
      "  <script type=\"text/javascript\">\n",
      "   window.userType = {\"isLoggedIn\":false,\"hasXwd\":false,\"hasDigi\":false,\"isErsatzShortz\":false,\"inShortzMode\":false,\"entitlement\":\"anon\"}\n",
      "  </script>\n",
      "  <script type=\"text/javascript\">\n",
      "   window.env = {\"version\":\"v6.1.6\",\"api\":\"https:\\u002F\\u002Fnyt-games-prd.appspot.com\",\"tagx\":\"https:\\u002F\\u002Fa.nytimes.com\",\"gtm\":\"https:\\u002F\\u002Fwww.googletagmanager.com\\u002Fgtm.js?id=GTM-P528B3&gtm_auth=tfAzqo1rYDLgYhmTnSjPqw&gtm_preview=env-130&gtm_cookies_win=x\",\"name\":\"prod\"}\n",
      "  </script>\n",
      "  <script type=\"text/javascript\">\n",
      "   window.abra = {\"GAMES_TP12_SpellingBeeCutoff\":\"1_good\",\"GAMES_TP13_VertexGating\":\"6_puzzles\",\"GAMES_TP14_FauxLP\":\"0_control_faux_lp\"}\n",
      "  </script>\n",
      "  <script type=\"text/javascript\">\n",
      "   window.adUnitPath = \"spellingbee\"\n",
      "  </script>\n",
      "  <div id=\"ratio-hook\">\n",
      "  </div>\n",
      "  <div id=\"width-hook\">\n",
      "  </div>\n",
      "  <script defer=\"\" src=\"/games-assets/v2/polyfills.cf1a343c9aa7a0116d199c3358ceb1bc.js\" type=\"text/javascript\">\n",
      "  </script>\n",
      "  <script defer=\"\" id=\"responsive.js\" type=\"text/javascript\">\n",
      "   !function(n,e){\"object\"==typeof exports&&\"undefined\"!=typeof module?module.exports=e():\"function\"==typeof define&&define.amd?define(e):(n=n||self).Responsive=e()}(this,function(){\"use strict\";var n=[\"transitionend\",\"webkitTransitionEnd\",\"oTransitionEnd\",\"msTransitionEnd\"],e=void 0;for(var i in n)if(\"on\"+n[i].toLowerCase()in window){e=n[i];break}function t(n){var i=[],t=document.getElementById(n),o={value:t.offsetWidth,subscribe:function(n){return i.push(n),function(){i.splice(i.indexOf(n),1)}}};return t.addEventListener(e,function(){var n=t.offsetWidth;if(function(n){o.value=n}(n),i.length)for(var e=i.length;e--;)i[e](n)},!1),o}return{isMobile:document.body.classList.contains(\"pz-mobile\"),ratio:t(\"ratio-hook\"),width:t(\"width-hook\")}});\n",
      "  </script>\n",
      "  <script defer=\"\" src=\"/games-assets/v2/foundation.2d78d3df69b1fbb732a6e5048be49794.js\" type=\"text/javascript\">\n",
      "  </script>\n",
      "  <script defer=\"\" src=\"/games-assets/v2/react-bundle.6e7ada6a91bc81f70b0aa18cf3fd9409.js\" type=\"text/javascript\">\n",
      "  </script>\n",
      "  <script defer=\"\" src=\"/games-assets/v2/spelling-bee.3e11a2cb951af1843a5919bf261dfe95.js\" type=\"text/javascript\">\n",
      "  </script>\n",
      "  <script type=\"text/javascript\">\n",
      "   var AdSlot4=function(){\"use strict\";function A(e){var n=1<arguments.length&&void 0!==arguments[1]?arguments[1]:0,t=2<arguments.length&&void 0!==arguments[2]?arguments[2]:0,o=3<arguments.length&&void 0!==arguments[3]?arguments[3]:0,i=4<arguments.length&&void 0!==arguments[4]?arguments[4]:0,a=!(5<arguments.length&&void 0!==arguments[5])||arguments[5];if(!e||1!==e.nodeType)return!1;var d=e.getBoundingClientRect(),r=d.top-n,s=d.left,l=d.bottom,c=d.right,u=0,p=0,g=window.innerHeight,f=window.innerWidth;return a?u+o*i<=l&&p+t*i<=c&&r<=g-o*i&&s<=f-t*i:u<=r&&l<=g}var C=function(){return!(\"undefined\"==typeof window||!window.document||!window.document.createElement)&&window.self!==window.top};function P(e){var n=window.location.href,t=e.replace(/[[]]/g,\"\\$&\"),o=new RegExp(\"[?&]\".concat(t,\"(=([^&#]*)|&|#|$)\")).exec(n);return o&&o[2]?decodeURIComponent(o[2].replace(/\\+/g,\"\")):\"\"}function O(e,n,t){var o=\"\".concat(e,\"-\").concat(n);try{performance.mark(o),performance.measure(e,t,o);var i=performance.getEntriesByName(e).pop();return i?Math.round(i.duration):0}catch(e){return 0}}function R(){var e=document.referrer||\"\",n=/([a-zA-Z0-9_\\-.]+)(@|%40)([a-zA-Z0-9_\\-.]+).([a-zA-Z]{2,5})/;return n.test(e)||n.test(window.location.href)}function I(e){var n=document.cookie.match(new RegExp(\"\".concat(e,\"=([^;]+)\")));return n?n[1]:\"\"}var x={adConfigPosition:1,nonPersonalized:\"n\",collapsed:\"c\",full:\"f\",socrates:\"s\"};function j(){return I(\"nyt-purr\")[x.adConfigPosition]||\"\"}return function(){var s,l,E=window.AdSlot4||{},n=window.performance&&window.performance.timing&&performance.timing.responseStart,r={},c=[],u=!1,p=!1,m=!0,t=!1,S=!1,w=j()===x.collapsed,z=!1;if(E.init)return E;function g(e){e&&n&&e.setTargeting(\"request_time\",(Date.now()-n).toString())}function h(e,n){window.googletag.cmd.push(function(){g(n),window.googletag.display(e)})}function T(e){if(R()||e)E.events.publish({name:\"AdEmpty\",value:{type:\"AdsDisabled\"}});else{var n,t,o,i,a,d=function(){var e=window.googletag;e?e.cmd.push(function(){e._loadStarted_?window.advBidxc&&!window.advBidxc.isAdServerLoaded&&(window.advBidxc.isAdServerLoaded=!0):E.events.publish({name:\"AdEmpty\",value:{type:\"AdBlockOn\"}})}):E.events.publish({name:\"AdEmpty\",value:{type:\"GptError\"}})};window.googletag&&window.googletag.apiReady?d():(n=\"https://securepubads.g.doubleclick.net/tag/js/gpt.js\",t=d,o=function(){E.events.publish({name:\"AdEmpty\",value:{type:\"GptError\"}})},i=document.getElementsByTagName(\"head\")[0],a=document.createElement(\"script\"),t&&(a.onload=t),o&&(a.onerror=o),a.src=n,a.async=!0,i.appendChild(a))}}function b(e,n,t){return window.googletag.defineSlot(e,n,t)}function i(e){var n,t,o,i=e.displayed,a=e.id,d=e.slot;(E.events.publish({name:\"AdCalled\",value:{id:a,timeCalled:O(a,\"timeCalled\",\"responseStart\")},scope:a}),u&&i)?(n=[d],t=p?null:{changeCorrelator:!1},(o=window.googletag).cmd.push(function(){n&&n.forEach(function(e){g(e)}),n&&t?o.pubads().refresh(n,t):n?o.pubads().refresh(n):t?o.pubads().refresh(null,t):o.pubads().refresh()}),p=!1):(h(a,d),r[a].displayed=!0)}function e(){c=c.filter(function(e){var n=e.AdSlotElement,t=A(n,m?E.props.offset:0,0,0,0,m);return t&&i(e),!t})}function a(t){var o=t.AdSlotElement,e={root:null,rootMargin:\"\".concat(E.props.offset,\"px\"),threshold:0},n=new IntersectionObserver(function(e,n){e[0].isIntersecting&&(i(t),n.unobserve(o))},e);return n.observe(o),n}function k(){window.IntersectionObserver?(t=!0,window.IntersectionObserver.prototype.POLL_INTERVAL=1e3):document.addEventListener(\"scroll\",function(o){var i=this,a=1<arguments.length&&void 0!==arguments[1]?arguments[1]:1e3,d=null;return function(){for(var e=arguments.length,n=new Array(e),t=0;t<e;t++)n[t]=arguments[t];null===d&&(d=setTimeout(function(){o.apply(i,n),d=null},a))}}(e,1e3))}function y(e){e.displayed||(t&&(e.observer=a(e)),c.push(e)),r[e.id]=e}function L(e){if(e.data.exclusive&&e.data.div){var n,t=e.data.div;switch(e.data.type){case\"only-child\":o={empty:(a=t,d=[],Object.keys(r).forEach(function(e){a!==e&&d.push(r[e])}),d)},(i=o&&o.empty||c).length&&i.forEach(function(e){e.observer&&e.observer.unobserve(e.AdSlotElement),E.events.publish({name:\"AdEmpty\",value:{type:e.id},scope:e.id})}),c=[],w=!0;break;case\"family-plan\":void 0!==(n=r[t]&&r[t].slot&&(r[t].slot.getResponseInformation()||{}).lineItemId)&&E.updateAdReq({adv:n,excl:\"family\"});break;case\"blank\":E.events.publish({name:\"AdEmpty\",value:{type:t},scope:e.data.div})}}var o,i,a,d}if(E.events=(s={},l={},{publish:function e(n){var t=n.name,o=void 0===t?\"\":t,i=n.value,a=void 0===i?{}:i,d=n.scope,r=void 0===d?\"page\":d;\"all\"!==r&&e({name:o,value:a,scope:\"all\"}),s[o]||(s[o]={}),s[o][r]||(s[o][r]=[]),s[o][r].push(a),l[o]&&l[o][r]&&l[o][r].forEach(function(e){e(a)})},subscribe:function(e){var n=e.name,t=void 0===n?\"\":n,o=e.callback,i=void 0===o?function(){}:o,a=e.scope,d=void 0===a?\"page\":a;l[t]||(l[t]={}),l[t][d]||(l[t][d]=[]);var r=l[t][d].push(i)-1;return s[t]&&s[t][d]&&s[t][d].length&&s[t][d].forEach(function(e){i(e)}),{remove:function(){return l[t][d].splice(r,1)}}},unsubscribeToAll:function(n){Object.keys(l).forEach(function(e){l[e]&&l[e][n]&&delete l[e][n]}),Object.keys(s).forEach(function(e){s[e]&&s[e][n]&&delete s[e][n]})}}),E.initializeAd=function(d,e){if(E.props){var n=E.props,t=n.adTargeting,r=n.adUnitPath,o=n.sizeMapping,i=n.hideTopAd,a=n.isSocrates,s=e.id,l=e.position,c=e.sizeKey,u=e.lazyLoad,p=e.truePosition,g=c||l,f=g in o?o[g]:o.default;if((\"top\"!==l||!i)&&s&&r&&f&&d&&d.classList&&!d.classList.contains(\"placed-ad\"))if(t&&t.gdprUser&&t.noTracking||R()||a)E.events.publish({name:\"AdEmpty\",value:{type:\"AdsDisabled\"}});else if(w)E.events.publish({name:\"AdEmpty\",value:{type:s},scope:s});else{var v=window.googletag;v.cmd.push(function(){var e;if(C()){var i=window.outerWidth,n=f.reduce(function(e,n){var t=Number.isInteger(n[0])?n[0]:null,o=e.prevVp;return t<i&&o<t&&(e.prevVp=t,e.sizes=n[1]),e},{prevVp:-1,sizes:[]});e=b(r,n.sizes,s)}else{e=b(r,[],s);var t=v.sizeMapping();f.forEach(function(e){t.addSize([e[0],0],e[1])}),e.defineSizeMapping(t.build())}var o=p||l;e.setTargeting(\"div\",s),e.setTargeting(\"pos\",o),e.setCollapseEmptyDiv(!0),e.addService(v.pubads());var a={id:s,slot:e,AdSlotElement:d,sizes:f};if(E.events.publish({name:\"AdDefined\",value:{id:s,sizes:f,truePosition:p,timeDefined:O(s,\"timeDefined\",\"responseStart\")},scope:s}),z)return h(s,e),a.displayed=!0,void y(a);u&&!A(d,0,0,0,0,m)||(E.events.publish({name:\"AdCalled\",value:{id:s,timeCalled:O(s,\"timeCalled\",\"responseStart\")},scope:s}),h(s,e),a.displayed=!0),y(a)})}}else E.events.subscribe({name:\"AdSlotReady\",callback:function(){return E.initializeAd(d,e)}})},E.fillPlacements=function(){var e=document.querySelectorAll(\".place-ad:not(.placed-ad)\");if(e)for(var n=0;n<e.length;n++){var t=e[n],o=t.id,i=t.dataset,a=i.position,d=i.sizeKey,r=\"false\"!==i.lazyLoad;o&&a&&(E.initializeAd(t,{id:o,position:a,sizeKey:d,lazyLoad:r}),t.classList.add(\"placed-ad\"))}},E.updateAdReq=function(n,t){window.googletag.cmd.push(function(){t&&r[t]?Object.keys(n).forEach(function(e){r[t].slot.setTargeting(e,\"\".concat(n[e]))}):Object.keys(n).forEach(function(e){window.googletag.pubads().setTargeting(e,\"\".concat(n[e]))})})},E.refreshAds=function(){m=!(p=u=!0),c=[],t?Object.keys(r).forEach(function(e){var n=r[e],t=n.observer,o=n.displayed,i=n.AdSlotElement;c.push(n),o&&(t&&t.unobserve(i),n.observer=a(n))}):(Object.keys(r).forEach(function(e){c.push(r[e])}),z?c.forEach(function(e){i(e)}):e()),setTimeout(function(){m=!0},2e3)},E.init=function(e){var n=e||{},t=n.adTargeting,i=void 0===t?{}:t,o=n.adUnitPath,a=void 0===o?\"\":o,d=n.offset,r=void 0===d?400:d,s=n.haltDFP,l=void 0!==s&&s,c=n.lockdownAds,u=void 0!==c&&c,p=n.hideTopAd,g=void 0!==p&&p,f=n.sizeMapping,v=void 0===f?{}:f,m=n.lazyApi,w=void 0===m?{}:m,h=\"s\"===I(\"nyt-purr\").substring(1,2),b=l||h;if(!S){i.vp=window.matchMedia(\"(min-width: 970px)\").matches?\"large\":window.matchMedia(\"(min-width: 728px)\").matches?\"medium\":\"small\",i.aid=I(\"nyt-a\")||null;var y=P(\"ad-keywords\");y&&(i.adv=y);var A=P(\"debugads\");A&&(i.debugAdsQP=A),\"1\"===I(\"nyt-gdpr\")&&(i.gdprUser=!0),\"out\"===I(\"NYT-T\").toLowerCase()&&(i.noTracking=!0),E.props={adTargeting:i,adUnitPath:a,offset:r,sizeMapping:v,hideTopAd:g,isSocrates:h,lazyApi:w},window.googletag=window.googletag||{},window.googletag.cmd=window.googletag.cmd||[],window.googletag.cmd.push(function(){var t,n,e,o=(t=i,n=window.googletag.pubads().getTargetingKeys(),Object.keys(t).filter(function(e){return n.indexOf(e)<0}).reduce(function(e,n){return e[n]=t[n],e},{}));Object.keys(o).forEach(function(e){window.googletag.pubads().setTargeting(e,o[e])}),(i.gdprUser||j()===x.nonPersonalized)&&window.googletag.pubads().setRequestNonPersonalizedAds(1),w.fetch&&w.render?(z=!0,e=w,window.googletag.cmd.push(function(){window.googletag.pubads().enableLazyLoad({fetchMarginPercent:e.fetch,renderMarginPercent:e.render}),window.googletag.enableServices()})):(window.googletag.enableServices(),k()),E.fillPlacements(),window.googletag.pubads().addEventListener(\"slotRenderEnded\",function(e){var n=e.slot.getSlotElementId();e.timeRendered=O(n,\"timeRendered\",\"\".concat(n,\"-timeCalled\")),e.isEmpty?E.events.publish({name:\"AdEmpty\",value:{type:n},scope:n}):E.events.publish({name:\"AdRendered\",value:e,scope:n})}),window.googletag.pubads().addEventListener(\"slotOnload\",function(e){var n=e.slot.getSlotElementId();e.timeLoaded=O(n,\"timeLoaded\",\"\".concat(n,\"-timeCalled\")),E.events.publish({name:\"AdLoaded\",value:e,scope:n})}),window.googletag.pubads().addEventListener(\"impressionViewable\",function(e){var n=e.slot.getSlotElementId();e.timeViewed=O(n,\"timeViewed\",\"\".concat(n,\"-timeCalled\")),E.events.publish({name:\"AdViewable\",value:e,scope:n})})}),u?window.googletag.cmd.push(function(){window.googletag.pubads().setForceSafeFrame(!0)}):window.addEventListener(\"message\",function(e){(e.origin.match(/tpc.googlesyndication.com$/)||e.origin===window.location.origin)&&L(e)},!1),T(b),E.events.publish({name:\"AdSlotReady\"}),S=!0}},E.cmd)for(;E.cmd.length;)E.cmd.shift()();return E.cmd={length:0,push:function(e){e()}},window.AdSlot4=E}()}();var AdSlot4=function(){\"use strict\";function _(n,i,o){var t=document.getElementsByTagName(\"head\")[0],e=document.createElement(\"script\");i&&(e.onload=i),o&&(e.onerror=o),e.src=n,e.async=!0,t.appendChild(e)}function E(n){var i=document.cookie.match(new RegExp(\"\".concat(n,\"=([^;]+)\")));return i?i[1]:\"\"}var n={adConfigPosition:1,nonPersonalized:\"n\",collapsed:\"c\",full:\"f\",socrates:\"s\"};function S(){return(E(\"nyt-purr\")[n.adConfigPosition]||\"\")===n.full}var d=[{id:\"dfp-ad-top\",sizes:{large:[[728,90],[970,90],[970,250]],medium:[[728,90],[300,250]],small:[[300,250],[300,420]]}},{id:\"top\",sizes:{large:[[728,90],[970,90],[970,250]],medium:[[728,90],[300,250]],small:[[300,250],[300,420]]}}];return function(){var z=window.AdSlot4||{};z.cmd=z.cmd||[];var b=!1;if(z.loadScripts)return z;var o,e=window.innerWidth;function a(t){z.events.subscribe({name:\"AdDefined\",scope:\"all\",callback:function(n){var o,i=[-1];n.sizes.forEach(function(n){n[0]<e&&n[0]>i[0]&&(i=[n])}),i[0][1]&&window.apstag.fetchBids({slots:[{slotID:n.truePosition||n.id,slotName:\"\".concat(n.id,\"_\").concat(t,\"_web\"),sizes:(o=i[0][1],Array.isArray(o)?[[300,250],[728,90],[970,90],[970,250]].filter(function(i){return o.some(function(n){return n[0]===i[0]&&n[1]===i[1]})}):(console.warn(\"filterSizes() did not receive an array\"),[]))}]},function(){window.googletag.cmd.push(function(){window.apstag.setDisplayBids()})})}})}function D(n,i){\"art, oak\"!==n&&\"art,oak\"!==n||(n=\"art\"),z.cmd.push(function(){var t,e;i&&window.apstag.fetchBids({slots:(t=o,e=n,d.reduce(function(n,i){var o={slotID:i.id,slotName:\"\".concat(i,\"_\").concat(e,\"_web\"),sizes:i.sizes[t]};return n.push(o),n},[]))},function(){window.googletag.cmd.push(function(){window.apstag.setDisplayBids()})}),a(n)})}return e<=600?o=\"small\":e<=740?o=\"medium\":740<e&&(o=\"large\"),z.loadScripts=function(n){var i,o,t,e,a,d,s,c=n||{},r=c.loadMnet,u=void 0===r||r,l=c.loadAmazon,w=void 0===l||l,p=c.setFastFetch,f=void 0!==p&&p,m=c.loadBait,g=void 0===m||m,v=c.section,h=void 0===v?\"none\":v,y=c.pageViewId,B=void 0===y?\"\":y,x=c.pageType,A=void 0===x?\"\":x;b||(\"1\"!==E(\"nyt-gdpr\")&&(i=document.referrer||\"\",!((o=/([a-zA-Z0-9_\\-.]+)(@|%40)([a-zA-Z0-9_\\-.]+).([a-zA-Z]{2,5})/).test(i)||o.test(window.location.href)))&&S()&&(!u||window.advBidxc&&window.advBidxc.isLoaded||(d=B,s=\"8CU2553YN\",window.innerWidth<740&&(s=\"8CULO58R6\"),_(\"https://contextual.media.net/bidexchange.js?cid=\".concat(s,\"&dn=\").concat(\"www.nytimes.com\",\"&https=1\"),function(){window.advBidxc&&window.advBidxc.isLoaded||console.warn(\"Media.net not loading properly\")},function(){z.cmd.push(function(){z.events.publish({name:\"BidderError\",value:{type:\"Mnet\"}})})}),window.advBidxc=window.advBidxc||{},window.advBidxc.renderAd=function(){},window.advBidxc.startTime=(new Date).getTime(),window.advBidxc.customerId={mediaNetCID:s},window.advBidxc.misc={isGptDisabled:1},d&&(window.advBidxc.misc.keywords=d)),w&&!window.apstag&&(t=h,e=A,a=f,function(o,t){function n(n,i){t[o]._Q.push([n,i])}t[o]||(t[o]={init:function(){n(\"i\",arguments)},fetchBids:function(){n(\"f\",arguments)},setDisplayBids:function(){},targetingKeys:function(){return[]},_Q:[]})}(\"apstag\",window),_(\"//c.amazon-adsystem.com/aax2/apstag.js\",function(){window.apstag||console.warn(\"A9 not loading properly\")},function(){z.cmd.push(function(){z.events.publish({name:\"BidderError\",value:{type:\"A9\"}})})}),window.apstag.init({pubID:\"3030\",adServer:\"googletag\",params:{si_section:t}}),D(e,a))),g&&_(\"https://nytimes.com/ads/google/adsbygoogle.js\",function(){},function(){z.cmd.push(function(){z.events.publish({name:\"AdEmpty\",value:{type:\"AdBlockOn\"}})})}),b=!0)},window.AdSlot4=z}()}();\n",
      "  </script>\n",
      " </body>\n",
      "</html>\n"
     ]
    }
   ],
   "source": [
    "print(soup.prettify())"
   ]
  },
  {
   "cell_type": "code",
   "execution_count": 61,
   "metadata": {},
   "outputs": [
    {
     "ename": "SyntaxError",
     "evalue": "invalid syntax (<ipython-input-61-bb82ef4c9e2a>, line 1)",
     "output_type": "error",
     "traceback": [
      "\u001b[0;36m  File \u001b[0;32m\"<ipython-input-61-bb82ef4c9e2a>\"\u001b[0;36m, line \u001b[0;32m1\u001b[0m\n\u001b[0;31m    div class=\"pz-game-screen\"\u001b[0m\n\u001b[0m            ^\u001b[0m\n\u001b[0;31mSyntaxError\u001b[0m\u001b[0;31m:\u001b[0m invalid syntax\n"
     ]
    }
   ],
   "source": [
    "div class=\"pz-game-screen\""
   ]
  },
  {
   "cell_type": "code",
   "execution_count": 67,
   "metadata": {},
   "outputs": [],
   "source": [
    "soup.find(\"div class ='pz-game-screen'\")"
   ]
  },
  {
   "cell_type": "code",
   "execution_count": null,
   "metadata": {},
   "outputs": [],
   "source": []
  }
 ],
 "metadata": {
  "kernelspec": {
   "display_name": "Python 3",
   "language": "python",
   "name": "python3"
  },
  "language_info": {
   "codemirror_mode": {
    "name": "ipython",
    "version": 3
   },
   "file_extension": ".py",
   "mimetype": "text/x-python",
   "name": "python",
   "nbconvert_exporter": "python",
   "pygments_lexer": "ipython3",
   "version": "3.7.4"
  }
 },
 "nbformat": 4,
 "nbformat_minor": 2
}
