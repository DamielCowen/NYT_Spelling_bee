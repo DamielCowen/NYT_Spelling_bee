{
 "cells": [
  {
   "cell_type": "markdown",
   "metadata": {},
   "source": [
    "# Forward\n",
    "\n",
    "I want to start off by taking a moment to thank you all for being here. I want to take an additional moment to acknowledge the privilege that has allowed me to take time off work and attempt my current career change.\n",
    "\n",
    "### About Me\n",
    "\n",
    "Hi I amd Daniel Cohen (he/him), reformed geologist and aspiring data-scientist! I started my journey to data-sciences in October 2019 when I enrolled in a data science accelerator program. Since then I have countless online tutorials and plenty of collaborations with fellow coders. My objective is to pivot my career from environmental consulting to data-sciences. Without a degree in computer-science or a related discipline how to you convince potential employers of your abilities? A portfolio! \n",
    "\n",
    "### My Ask\n",
    "\n",
    "Hopefully I am reaching the end of the beginning of my journey, but I still have a long way to go. My ask from you is to provide a code review. Please volunteer suggestions for improvements or how to make this project more professional.\n"
   ]
  },
  {
   "cell_type": "markdown",
   "metadata": {},
   "source": [
    "# New York Times Spelling Bee\n",
    "\n",
    "Impress your friends and co-workers with your ability to provide answers to the New York Time's, Spelling Bee word game! \n",
    "\n",
    "For the uninitated the NYTSB is a daily word puzzel where you get 7 letters, 6 outer and 1 inner letters - You score points by making words from the available letters! Each word must include the center letter and be longer than 3 characters. In this notebook and supporting files you will see 3 solutions.\n",
    "\n",
    "\n",
    "![](http://www.jeanyoungkim.com/projects/assets/bee/spelling-bee.png)\n"
   ]
  },
  {
   "cell_type": "code",
   "execution_count": 2,
   "metadata": {},
   "outputs": [
    {
     "name": "stdout",
     "output_type": "stream",
     "text": [
      "BASE\n",
      "0.7044458389282227 54\n",
      "\n",
      "Method 1\n",
      "277.05665826797485 54\n",
      "\n",
      "Method 2\n",
      "0.8110339641571045 54\n",
      "\n",
      "Method 3\n",
      "0.5704441070556641\n",
      "\n",
      "Pro\n",
      "0.290848970413208 24\n"
     ]
    }
   ],
   "source": [
    "import time\n",
    "run spelling_bee"
   ]
  },
  {
   "cell_type": "markdown",
   "metadata": {},
   "source": [
    "# List of Words\n",
    "\n",
    "The code does not know which combination of letters consitute a word. Utilized Natural Lanugage Processing Tool Kit (NLTK) corpus word. \n"
   ]
  },
  {
   "cell_type": "code",
   "execution_count": 23,
   "metadata": {},
   "outputs": [
    {
     "name": "stdout",
     "output_type": "stream",
     "text": [
      "Number of words in vocab to evaluate: 236736. Today's valid letters are ['n', 'a', 'c', 'l', 't', 'v', 'y'] and the center letter is n\n"
     ]
    },
    {
     "name": "stderr",
     "output_type": "stream",
     "text": [
      "[nltk_data] Downloading package words to /Users/drahcir1/nltk_data...\n",
      "[nltk_data]   Package words is already up-to-date!\n"
     ]
    },
    {
     "data": {
      "text/plain": [
       "['A',\n",
       " 'a',\n",
       " 'aa',\n",
       " 'aal',\n",
       " 'aalii',\n",
       " 'aam',\n",
       " 'Aani',\n",
       " 'aardvark',\n",
       " 'aardwolf',\n",
       " 'Aaron']"
      ]
     },
     "execution_count": 23,
     "metadata": {},
     "output_type": "execute_result"
    }
   ],
   "source": [
    "center = p.centerLetter\n",
    "letters = p.validLetters\n",
    "\n",
    "import nltk\n",
    "nltk.download('words')\n",
    "\n",
    "vocab = words.words()\n",
    "print(\"Number of words in vocab to evaluate: {}. Today's valid letters are {} and the center letter is {}\".format(len(vocab), letters, center))\n",
    "vocab[:10]"
   ]
  },
  {
   "cell_type": "markdown",
   "metadata": {},
   "source": [
    "There are four criteria for a word to be considered a possible solution.\n",
    "\n",
    "1. It must be 4 or more characters\n",
    "2. No proper nouns (no capitals)\n",
    "3. Contains only letters from the puzzle, letters can be repeated\n",
    "4. Center character at least once"
   ]
  },
  {
   "cell_type": "markdown",
   "metadata": {},
   "source": [
    "# Stupid Method 1\n",
    "\n",
    "### The Simple Son: Loads entire vocabulary and loops it 4 times to evaluate each solution criteria. \n",
    "\n",
    "This method is stupid. Minimum Big(O) is vocab * 4. But I did learn a few things.\n",
    "\n",
    "1.     I needed to iterate through a 200k list. I wanted to edit the list inplace to save memory and keep my code clean. When the python interrupter iterates through a list it starts at the beginneg and moves towars the end. The issue is that if you remove a word in this process it misses up the indexing. To fix this I itterated from the back of the list. \n",
    "     "
   ]
  },
  {
   "cell_type": "code",
   "execution_count": 20,
   "metadata": {},
   "outputs": [
    {
     "name": "stdout",
     "output_type": "stream",
     "text": [
      "['a', 'c', 'e', 'g', 'i', 'k', 'm', 'o', 'q', 's', 'u', 'w', 'y']\n",
      "['a', 'e', 'i', 'o', 'u']\n"
     ]
    }
   ],
   "source": [
    "temp = list('abcdefghijklmnopqrstuvwxyz')\n",
    "vowels = list('aeiou')\n",
    "\n",
    "for c in temp:\n",
    "    if c not in vowels:\n",
    "        temp.remove(c)\n",
    "print(temp)\n",
    "\n",
    "#backwards itteration\n",
    "temp = list('abcdefghijklmnopqrstuvwxyz')\n",
    "for c in temp[::-1]:\n",
    "    if c not in vowels:\n",
    "        temp.remove(c)\n",
    "print(temp)"
   ]
  },
  {
   "cell_type": "markdown",
   "metadata": {},
   "source": [
    "2.  Work smarter not harder - embrace the built-in data types. I think my over-confident male ego I wanted to code everything myself. Turns out people the python base code is much better than anything I could write. For instance using the set data type."
   ]
  },
  {
   "cell_type": "code",
   "execution_count": 28,
   "metadata": {},
   "outputs": [
    {
     "name": "stdout",
     "output_type": "stream",
     "text": [
      "301.7398669719696\n"
     ]
    }
   ],
   "source": [
    "start = time.time()\n",
    "for word in vocab[::-1]:\n",
    "    if not set(list(word)).issubset(letters):\n",
    "        vocab.remove(word)\n",
    "end = time.time()\n",
    "print(end-start)"
   ]
  },
  {
   "cell_type": "code",
   "execution_count": 33,
   "metadata": {},
   "outputs": [
    {
     "name": "stdout",
     "output_type": "stream",
     "text": [
      "0.19579100608825684 165\n"
     ]
    }
   ],
   "source": [
    "vocab = words.words()\n",
    "start = time.time()\n",
    "vocab[:] = [word for word in vocab[::-1] if set(list(word)).issubset(letters)]\n",
    "end = time.time()\n",
    "print(end-start, len(vocab))"
   ]
  },
  {
   "cell_type": "code",
   "execution_count": 34,
   "metadata": {},
   "outputs": [
    {
     "name": "stdout",
     "output_type": "stream",
     "text": [
      "0.06855511665344238 165\n"
     ]
    }
   ],
   "source": [
    "#stupid way\n",
    "vocab = words.words()\n",
    "start = time.time()\n",
    "\n",
    "def evaluate(word):\n",
    "    for letter in word:\n",
    "        if not letter in letters:\n",
    "            return False\n",
    "    else:\n",
    "        return True\n",
    "    \n",
    "vocab[:] = [word for word in vocab[::-1] if evaluate(word)]\n",
    "end = time.time()\n",
    "print(end-start, len(vocab))"
   ]
  },
  {
   "cell_type": "markdown",
   "metadata": {},
   "source": [
    "# Lazy Method 2\n",
    "\n",
    "### Lazy only loads words that meet criteria\n",
    "\n",
    "Three insights in this method. \n",
    "1. Instead of iterating through the list 4 times to check each solution criteria iterate through the list once and check all four at once. \n",
    "2. Instead of loading the entire vocab into memory, read the corpus one word at a time and only load it to memory if it passes the solution criteria check. \n",
    "3. Slice into the list istead of iterating through it.\n",
    "\n",
    "        Slice operations require more thought. To access the slice [a:b] of a list, we \n",
    "        must iterate over every element between indices a and b. So, slice access is \n",
    "        O(k)O(k), where kk is the size of the slice. Deleting a slice is O(n)O(n) for \n",
    "        the same reason that deleting a single element is O(n)O(n): nn subsequent \n",
    "        elements must be shifted toward the list's beginning.[1]\n",
    "        \n",
    "        [1] https://bradfieldcs.com/algos/analysis/performance-of-python-types/\n"
   ]
  },
  {
   "cell_type": "code",
   "execution_count": 43,
   "metadata": {},
   "outputs": [
    {
     "name": "stdout",
     "output_type": "stream",
     "text": [
      "1.6309876441955566\n"
     ]
    }
   ],
   "source": [
    "start = time.time()\n",
    "vocab = words.words()\n",
    "for word in vocab[:-1000:-1]: #iterates the 1000 words at the back of the list ONLY\n",
    "    if not set(list(word)).issubset(letters):\n",
    "        vocab.remove(word)\n",
    "end = time.time()\n",
    "print(end-start)"
   ]
  },
  {
   "cell_type": "code",
   "execution_count": 46,
   "metadata": {},
   "outputs": [
    {
     "name": "stdout",
     "output_type": "stream",
     "text": [
      "0.19491004943847656 165\n"
     ]
    },
    {
     "data": {
      "text/plain": [
       "['tall', 'cat', 'at', 'any', 'ant', 'all', 'act', 'a', 'yn', 'yaya']"
      ]
     },
     "execution_count": 46,
     "metadata": {},
     "output_type": "execute_result"
    }
   ],
   "source": [
    "vocab = words.words()\n",
    "start = time.time()\n",
    "vocab[:] = [word for word in vocab[::-1] if set(list(word)).issubset(letters)]\n",
    "end = time.time()\n",
    "print(end-start, len(vocab))\n",
    "vocab[:10]"
   ]
  },
  {
   "cell_type": "code",
   "execution_count": 45,
   "metadata": {},
   "outputs": [
    {
     "name": "stdout",
     "output_type": "stream",
     "text": [
      "0.0689091682434082 165\n"
     ]
    }
   ],
   "source": [
    "vocab = words.words()\n",
    "start = time.time()\n",
    "\n",
    "def evaluate(word):\n",
    "    for letter in word:\n",
    "        if not letter in letters:\n",
    "            return False\n",
    "    else:\n",
    "        return True\n",
    "    \n",
    "vocab[:] = [word for word in vocab[::-1] if evaluate(word)]\n",
    "end = time.time()\n",
    "print(end-start, len(vocab))\n",
    "vocab[:10]"
   ]
  },
  {
   "cell_type": "markdown",
   "metadata": {},
   "source": [
    "# Method 3 (depreciated )\n",
    "\n",
    "### A Trie data type \n",
    "\n",
    "![](https://media.geeksforgeeks.org/wp-content/cdn-uploads/Trie.png)"
   ]
  },
  {
   "cell_type": "markdown",
   "metadata": {},
   "source": [
    "Trie is an efficient information reTrieval data structure. Using Trie, search complexities can be brought to optimal limit (key length). If we store keys in binary search tree, a well balanced BST will need time proportional to M * log N, where M is maximum string length and N is number of keys in tree. Using Trie, we can search the key in O(M) time. However the penalty is on Trie storage requirements [2]\n",
    "\n",
    "[2] https://www.geeksforgeeks.org/trie-insert-and-search/"
   ]
  },
  {
   "cell_type": "markdown",
   "metadata": {},
   "source": [
    "# Pro method\n",
    "\n",
    "I was writing a script that would scrape the daily puzzle and automate the solution generation progress. While parsing the code I noticed that the solutions are passed in javascript dictonary.\n"
   ]
  },
  {
   "cell_type": "code",
   "execution_count": 35,
   "metadata": {},
   "outputs": [
    {
     "data": {
      "text/plain": [
       "{'today': {'expiration': 1592290800,\n",
       "  'displayWeekday': 'Monday',\n",
       "  'displayDate': 'June 15, 2020',\n",
       "  'printDate': '2020-06-15',\n",
       "  'centerLetter': 'n',\n",
       "  'outerLetters': ['a', 'c', 'l', 't', 'v', 'y'],\n",
       "  'validLetters': ['n', 'a', 'c', 'l', 't', 'v', 'y'],\n",
       "  'pangrams': ['vacantly'],\n",
       "  'answers': ['vacantly',\n",
       "   'anal',\n",
       "   'anally',\n",
       "   'annal',\n",
       "   'canal',\n",
       "   'cancan',\n",
       "   'canna',\n",
       "   'canny',\n",
       "   'cant',\n",
       "   'cantata',\n",
       "   'clan',\n",
       "   'cyan',\n",
       "   'lantana',\n",
       "   'naan',\n",
       "   'nana',\n",
       "   'nanny',\n",
       "   'natal',\n",
       "   'natant',\n",
       "   'natty',\n",
       "   'naval',\n",
       "   'navally',\n",
       "   'navy',\n",
       "   'vacancy',\n",
       "   'vacant'],\n",
       "  'id': 5593,\n",
       "  'freeExpiration': 0,\n",
       "  'editor': 'Sam Ezersky'},\n",
       " 'yesterday': {'displayWeekday': 'Sunday',\n",
       "  'displayDate': 'June 14, 2020',\n",
       "  'printDate': '2020-06-14',\n",
       "  'centerLetter': 'l',\n",
       "  'outerLetters': ['g', 'h', 'm', 'o', 't', 'y'],\n",
       "  'validLetters': ['l', 'g', 'h', 'm', 'o', 't', 'y'],\n",
       "  'pangrams': ['mythology'],\n",
       "  'answers': ['mythology',\n",
       "   'glom',\n",
       "   'gloom',\n",
       "   'gloomy',\n",
       "   'goggly',\n",
       "   'golly',\n",
       "   'googly',\n",
       "   'googol',\n",
       "   'holly',\n",
       "   'holt',\n",
       "   'holy',\n",
       "   'homology',\n",
       "   'hotly',\n",
       "   'logo',\n",
       "   'logy',\n",
       "   'loll',\n",
       "   'loom',\n",
       "   'loot',\n",
       "   'lotto',\n",
       "   'moll',\n",
       "   'molt',\n",
       "   'otology',\n",
       "   'toll',\n",
       "   'tool'],\n",
       "  'id': 4330,\n",
       "  'freeExpiration': 0,\n",
       "  'editor': 'Sam Ezersky'}}"
      ]
     },
     "execution_count": 35,
     "metadata": {},
     "output_type": "execute_result"
    }
   ],
   "source": [
    "p.gameDataDict"
   ]
  },
  {
   "cell_type": "code",
   "execution_count": null,
   "metadata": {},
   "outputs": [],
   "source": []
  }
 ],
 "metadata": {
  "kernelspec": {
   "display_name": "Python 3",
   "language": "python",
   "name": "python3"
  },
  "language_info": {
   "codemirror_mode": {
    "name": "ipython",
    "version": 3
   },
   "file_extension": ".py",
   "mimetype": "text/x-python",
   "name": "python",
   "nbconvert_exporter": "python",
   "pygments_lexer": "ipython3",
   "version": "3.7.4"
  }
 },
 "nbformat": 4,
 "nbformat_minor": 2
}
